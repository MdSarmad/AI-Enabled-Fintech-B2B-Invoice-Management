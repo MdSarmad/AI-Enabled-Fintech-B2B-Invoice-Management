{
 "cells": [
  {
   "cell_type": "code",
   "execution_count": 1,
   "id": "57d76c3b",
   "metadata": {},
   "outputs": [],
   "source": [
    "import numpy as np\n",
    "import pandas as pd\n",
    "\n",
    "import  matplotlib.pyplot as plt\n",
    "%matplotlib inline\n",
    "\n",
    "import seaborn as sns\n",
    "\n",
    "import sklearn\n",
    "\n",
    "import warnings\n",
    "warnings.filterwarnings(\"ignore\")"
   ]
  },
  {
   "cell_type": "markdown",
   "id": "4d6f02ab",
   "metadata": {},
   "source": [
    "# 1) Data Reading"
   ]
  },
  {
   "cell_type": "code",
   "execution_count": 2,
   "id": "443883e7",
   "metadata": {},
   "outputs": [],
   "source": [
    "df = pd.read_csv(\"C:\\\\Users\\\\MD SARMAD\\\\Desktop\\\\H2HBABBA1479.csv\")"
   ]
  },
  {
   "cell_type": "code",
   "execution_count": 3,
   "id": "47fd60b4",
   "metadata": {
    "scrolled": true
   },
   "outputs": [
    {
     "data": {
      "text/html": [
       "<div>\n",
       "<style scoped>\n",
       "    .dataframe tbody tr th:only-of-type {\n",
       "        vertical-align: middle;\n",
       "    }\n",
       "\n",
       "    .dataframe tbody tr th {\n",
       "        vertical-align: top;\n",
       "    }\n",
       "\n",
       "    .dataframe thead th {\n",
       "        text-align: right;\n",
       "    }\n",
       "</style>\n",
       "<table border=\"1\" class=\"dataframe\">\n",
       "  <thead>\n",
       "    <tr style=\"text-align: right;\">\n",
       "      <th></th>\n",
       "      <th>business_code</th>\n",
       "      <th>cust_number</th>\n",
       "      <th>name_customer</th>\n",
       "      <th>clear_date</th>\n",
       "      <th>buisness_year</th>\n",
       "      <th>doc_id</th>\n",
       "      <th>posting_date</th>\n",
       "      <th>document_create_date</th>\n",
       "      <th>document_create_date.1</th>\n",
       "      <th>due_in_date</th>\n",
       "      <th>invoice_currency</th>\n",
       "      <th>document type</th>\n",
       "      <th>posting_id</th>\n",
       "      <th>area_business</th>\n",
       "      <th>total_open_amount</th>\n",
       "      <th>baseline_create_date</th>\n",
       "      <th>cust_payment_terms</th>\n",
       "      <th>invoice_id</th>\n",
       "      <th>isOpen</th>\n",
       "    </tr>\n",
       "  </thead>\n",
       "  <tbody>\n",
       "    <tr>\n",
       "      <th>0</th>\n",
       "      <td>U001</td>\n",
       "      <td>200705089</td>\n",
       "      <td>JETR corporation</td>\n",
       "      <td>NaN</td>\n",
       "      <td>2020</td>\n",
       "      <td>1930669762</td>\n",
       "      <td>19-03-2020</td>\n",
       "      <td>20200318</td>\n",
       "      <td>20200319</td>\n",
       "      <td>20200523</td>\n",
       "      <td>USD</td>\n",
       "      <td>RV</td>\n",
       "      <td>1</td>\n",
       "      <td>NaN</td>\n",
       "      <td>5258.71</td>\n",
       "      <td>20200319</td>\n",
       "      <td>NAGD</td>\n",
       "      <td>1.930670e+09</td>\n",
       "      <td>1</td>\n",
       "    </tr>\n",
       "    <tr>\n",
       "      <th>1</th>\n",
       "      <td>U001</td>\n",
       "      <td>200775094</td>\n",
       "      <td>SAVE M llc</td>\n",
       "      <td>NaN</td>\n",
       "      <td>2020</td>\n",
       "      <td>1930708822</td>\n",
       "      <td>26-03-2020</td>\n",
       "      <td>20200326</td>\n",
       "      <td>20200326</td>\n",
       "      <td>20200410</td>\n",
       "      <td>USD</td>\n",
       "      <td>RV</td>\n",
       "      <td>1</td>\n",
       "      <td>NaN</td>\n",
       "      <td>76336.64</td>\n",
       "      <td>20200326</td>\n",
       "      <td>NAA8</td>\n",
       "      <td>1.930709e+09</td>\n",
       "      <td>1</td>\n",
       "    </tr>\n",
       "    <tr>\n",
       "      <th>2</th>\n",
       "      <td>U001</td>\n",
       "      <td>200020431</td>\n",
       "      <td>DEC in</td>\n",
       "      <td>NaN</td>\n",
       "      <td>2020</td>\n",
       "      <td>1930861359</td>\n",
       "      <td>06-05-2020</td>\n",
       "      <td>20200506</td>\n",
       "      <td>20200506</td>\n",
       "      <td>20200511</td>\n",
       "      <td>USD</td>\n",
       "      <td>RV</td>\n",
       "      <td>1</td>\n",
       "      <td>NaN</td>\n",
       "      <td>12488.63</td>\n",
       "      <td>20200501</td>\n",
       "      <td>NAM2</td>\n",
       "      <td>1.930861e+09</td>\n",
       "      <td>1</td>\n",
       "    </tr>\n",
       "    <tr>\n",
       "      <th>3</th>\n",
       "      <td>U001</td>\n",
       "      <td>200707822</td>\n",
       "      <td>PUBLI corporation</td>\n",
       "      <td>02-03-2020 00:00</td>\n",
       "      <td>2020</td>\n",
       "      <td>1930533131</td>\n",
       "      <td>16-02-2020</td>\n",
       "      <td>20200216</td>\n",
       "      <td>20200216</td>\n",
       "      <td>20200302</td>\n",
       "      <td>USD</td>\n",
       "      <td>RV</td>\n",
       "      <td>1</td>\n",
       "      <td>NaN</td>\n",
       "      <td>97916.93</td>\n",
       "      <td>20200216</td>\n",
       "      <td>NAA8</td>\n",
       "      <td>1.930533e+09</td>\n",
       "      <td>0</td>\n",
       "    </tr>\n",
       "    <tr>\n",
       "      <th>4</th>\n",
       "      <td>U001</td>\n",
       "      <td>200762301</td>\n",
       "      <td>C&amp;S WH us</td>\n",
       "      <td>13-03-2019 00:00</td>\n",
       "      <td>2019</td>\n",
       "      <td>1928851756</td>\n",
       "      <td>26-02-2019</td>\n",
       "      <td>20190224</td>\n",
       "      <td>20190226</td>\n",
       "      <td>20190313</td>\n",
       "      <td>USD</td>\n",
       "      <td>RV</td>\n",
       "      <td>1</td>\n",
       "      <td>NaN</td>\n",
       "      <td>22492.19</td>\n",
       "      <td>20190226</td>\n",
       "      <td>NAC6</td>\n",
       "      <td>1.928852e+09</td>\n",
       "      <td>0</td>\n",
       "    </tr>\n",
       "  </tbody>\n",
       "</table>\n",
       "</div>"
      ],
      "text/plain": [
       "  business_code cust_number      name_customer        clear_date  \\\n",
       "0          U001   200705089   JETR corporation               NaN   \n",
       "1          U001   200775094         SAVE M llc               NaN   \n",
       "2          U001   200020431             DEC in               NaN   \n",
       "3          U001   200707822  PUBLI corporation  02-03-2020 00:00   \n",
       "4          U001   200762301          C&S WH us  13-03-2019 00:00   \n",
       "\n",
       "   buisness_year      doc_id posting_date  document_create_date  \\\n",
       "0           2020  1930669762   19-03-2020              20200318   \n",
       "1           2020  1930708822   26-03-2020              20200326   \n",
       "2           2020  1930861359   06-05-2020              20200506   \n",
       "3           2020  1930533131   16-02-2020              20200216   \n",
       "4           2019  1928851756   26-02-2019              20190224   \n",
       "\n",
       "   document_create_date.1  due_in_date invoice_currency document type  \\\n",
       "0                20200319     20200523              USD            RV   \n",
       "1                20200326     20200410              USD            RV   \n",
       "2                20200506     20200511              USD            RV   \n",
       "3                20200216     20200302              USD            RV   \n",
       "4                20190226     20190313              USD            RV   \n",
       "\n",
       "   posting_id  area_business  total_open_amount  baseline_create_date  \\\n",
       "0           1            NaN            5258.71              20200319   \n",
       "1           1            NaN           76336.64              20200326   \n",
       "2           1            NaN           12488.63              20200501   \n",
       "3           1            NaN           97916.93              20200216   \n",
       "4           1            NaN           22492.19              20190226   \n",
       "\n",
       "  cust_payment_terms    invoice_id  isOpen  \n",
       "0               NAGD  1.930670e+09       1  \n",
       "1               NAA8  1.930709e+09       1  \n",
       "2               NAM2  1.930861e+09       1  \n",
       "3               NAA8  1.930533e+09       0  \n",
       "4               NAC6  1.928852e+09       0  "
      ]
     },
     "execution_count": 3,
     "metadata": {},
     "output_type": "execute_result"
    }
   ],
   "source": [
    "df.head()"
   ]
  },
  {
   "cell_type": "markdown",
   "id": "ec4027aa",
   "metadata": {},
   "source": [
    "# 2) Data Preprocessing"
   ]
  },
  {
   "cell_type": "code",
   "execution_count": 4,
   "id": "091c3181",
   "metadata": {
    "scrolled": true
   },
   "outputs": [
    {
     "data": {
      "text/plain": [
       "business_code                 6\n",
       "cust_number                1073\n",
       "name_customer              4183\n",
       "clear_date                  398\n",
       "buisness_year                 2\n",
       "doc_id                    48855\n",
       "posting_date                502\n",
       "document_create_date        508\n",
       "document_create_date.1      502\n",
       "due_in_date                 544\n",
       "invoice_currency              2\n",
       "document type                 2\n",
       "posting_id                    1\n",
       "area_business                 0\n",
       "total_open_amount         44348\n",
       "baseline_create_date        504\n",
       "cust_payment_terms           74\n",
       "invoice_id                48849\n",
       "isOpen                        2\n",
       "dtype: int64"
      ]
     },
     "execution_count": 4,
     "metadata": {},
     "output_type": "execute_result"
    }
   ],
   "source": [
    "df.nunique()"
   ]
  },
  {
   "cell_type": "markdown",
   "id": "ed47423a",
   "metadata": {},
   "source": [
    "#Removing Unique Value"
   ]
  },
  {
   "cell_type": "code",
   "execution_count": 5,
   "id": "a70661e6",
   "metadata": {},
   "outputs": [],
   "source": [
    "#dropping posting_id and area_business due to only value and no value throughout\n",
    "df.drop(['posting_id','area_business'],axis = 1,inplace = True)"
   ]
  },
  {
   "cell_type": "code",
   "execution_count": 6,
   "id": "a978d205",
   "metadata": {
    "scrolled": true
   },
   "outputs": [
    {
     "data": {
      "text/plain": [
       "business_code                 0\n",
       "cust_number                   0\n",
       "name_customer                 0\n",
       "clear_date                10000\n",
       "buisness_year                 0\n",
       "doc_id                        0\n",
       "posting_date                  0\n",
       "document_create_date          0\n",
       "document_create_date.1        0\n",
       "due_in_date                   0\n",
       "invoice_currency              0\n",
       "document type                 0\n",
       "total_open_amount             0\n",
       "baseline_create_date          0\n",
       "cust_payment_terms            0\n",
       "invoice_id                    6\n",
       "isOpen                        0\n",
       "dtype: int64"
      ]
     },
     "execution_count": 6,
     "metadata": {},
     "output_type": "execute_result"
    }
   ],
   "source": [
    "df.isnull().sum()"
   ]
  },
  {
   "cell_type": "markdown",
   "id": "7541c3d6",
   "metadata": {},
   "source": [
    "#Null Imputation"
   ]
  },
  {
   "cell_type": "code",
   "execution_count": 7,
   "id": "83573e2f",
   "metadata": {},
   "outputs": [],
   "source": [
    "#fill null value of invoice_id using interpolation\n",
    "\n",
    "df.invoice_id.interpolate(inplace=True)"
   ]
  },
  {
   "cell_type": "code",
   "execution_count": 8,
   "id": "4ef59c82",
   "metadata": {},
   "outputs": [],
   "source": [
    "#Copying the rows where clear_date in null\n",
    "\n",
    "df1 = df[df.clear_date.isnull()]\n",
    "train = df[df.clear_date.isnull() == False]"
   ]
  },
  {
   "cell_type": "code",
   "execution_count": 9,
   "id": "0b472947",
   "metadata": {},
   "outputs": [
    {
     "data": {
      "text/plain": [
       "business_code                 6\n",
       "cust_number                1032\n",
       "name_customer              3874\n",
       "clear_date                  398\n",
       "buisness_year                 2\n",
       "doc_id                    39164\n",
       "posting_date                421\n",
       "document_create_date        427\n",
       "document_create_date.1      421\n",
       "due_in_date                 491\n",
       "invoice_currency              2\n",
       "document type                 2\n",
       "total_open_amount         35702\n",
       "baseline_create_date        426\n",
       "cust_payment_terms           72\n",
       "invoice_id                39164\n",
       "isOpen                        1\n",
       "dtype: int64"
      ]
     },
     "execution_count": 9,
     "metadata": {},
     "output_type": "execute_result"
    }
   ],
   "source": [
    "train.nunique()"
   ]
  },
  {
   "cell_type": "code",
   "execution_count": 10,
   "id": "a5e6fed8",
   "metadata": {},
   "outputs": [],
   "source": [
    "#dropping document type and isOpen from train data due to only value throughout\n",
    "\n",
    "train.drop(['isOpen'],axis=1,inplace = True)"
   ]
  },
  {
   "cell_type": "markdown",
   "id": "88ec0e09",
   "metadata": {},
   "source": [
    "#Currency flatness"
   ]
  },
  {
   "cell_type": "code",
   "execution_count": 11,
   "id": "f218cfe9",
   "metadata": {},
   "outputs": [
    {
     "data": {
      "text/plain": [
       "USD    36893\n",
       "CAD     3107\n",
       "Name: invoice_currency, dtype: int64"
      ]
     },
     "execution_count": 11,
     "metadata": {},
     "output_type": "execute_result"
    }
   ],
   "source": [
    "train.invoice_currency.value_counts()"
   ]
  },
  {
   "cell_type": "code",
   "execution_count": 12,
   "id": "ad923dba",
   "metadata": {},
   "outputs": [],
   "source": [
    "#making amount in single currency value\n",
    "\n",
    "train['actual_open_amount'] = train['total_open_amount'].where(train['invoice_currency']=='USD', df['total_open_amount'] * 0.8)"
   ]
  },
  {
   "cell_type": "code",
   "execution_count": 13,
   "id": "27a706a7",
   "metadata": {},
   "outputs": [],
   "source": [
    "#dropping invoice_currency and total_open_amount due to no further use\n",
    "\n",
    "train.drop(['invoice_currency','total_open_amount'],axis =1,inplace = True)"
   ]
  },
  {
   "cell_type": "markdown",
   "id": "310dab3a",
   "metadata": {},
   "source": [
    "#DATE Formatting"
   ]
  },
  {
   "cell_type": "code",
   "execution_count": 14,
   "id": "482488af",
   "metadata": {},
   "outputs": [],
   "source": [
    "train['clear_date']=pd.to_datetime(train['clear_date']).dt.normalize()\n",
    "train['posting_date']=pd.to_datetime(train['posting_date']).dt.normalize()\n",
    "train['due_in_date']=pd.to_datetime(train['due_in_date'],format='%Y%m%d')"
   ]
  },
  {
   "cell_type": "code",
   "execution_count": 15,
   "id": "111ed0d0",
   "metadata": {},
   "outputs": [],
   "source": [
    "#Creating new column for delay_days\n",
    "\n",
    "train['delay_days'] = pd.to_numeric((train['clear_date']-train['due_in_date']).dt.days, downcast='integer')"
   ]
  },
  {
   "cell_type": "code",
   "execution_count": 16,
   "id": "b4dfbe1f",
   "metadata": {},
   "outputs": [],
   "source": [
    "#dropping clear_date and due_in_date due to no further use\n",
    "\n",
    "train.drop(['clear_date','due_in_date'],axis =1,inplace = True)"
   ]
  },
  {
   "cell_type": "code",
   "execution_count": 17,
   "id": "3e504984",
   "metadata": {},
   "outputs": [
    {
     "data": {
      "text/html": [
       "<div>\n",
       "<style scoped>\n",
       "    .dataframe tbody tr th:only-of-type {\n",
       "        vertical-align: middle;\n",
       "    }\n",
       "\n",
       "    .dataframe tbody tr th {\n",
       "        vertical-align: top;\n",
       "    }\n",
       "\n",
       "    .dataframe thead th {\n",
       "        text-align: right;\n",
       "    }\n",
       "</style>\n",
       "<table border=\"1\" class=\"dataframe\">\n",
       "  <thead>\n",
       "    <tr style=\"text-align: right;\">\n",
       "      <th></th>\n",
       "      <th>business_code</th>\n",
       "      <th>cust_number</th>\n",
       "      <th>name_customer</th>\n",
       "      <th>buisness_year</th>\n",
       "      <th>doc_id</th>\n",
       "      <th>posting_date</th>\n",
       "      <th>document_create_date</th>\n",
       "      <th>document_create_date.1</th>\n",
       "      <th>document type</th>\n",
       "      <th>baseline_create_date</th>\n",
       "      <th>cust_payment_terms</th>\n",
       "      <th>invoice_id</th>\n",
       "      <th>actual_open_amount</th>\n",
       "      <th>delay_days</th>\n",
       "    </tr>\n",
       "  </thead>\n",
       "  <tbody>\n",
       "    <tr>\n",
       "      <th>3</th>\n",
       "      <td>U001</td>\n",
       "      <td>200707822</td>\n",
       "      <td>PUBLI corporation</td>\n",
       "      <td>2020</td>\n",
       "      <td>1930533131</td>\n",
       "      <td>2020-02-16</td>\n",
       "      <td>20200216</td>\n",
       "      <td>20200216</td>\n",
       "      <td>RV</td>\n",
       "      <td>20200216</td>\n",
       "      <td>NAA8</td>\n",
       "      <td>1.930533e+09</td>\n",
       "      <td>97916.93</td>\n",
       "      <td>-28</td>\n",
       "    </tr>\n",
       "    <tr>\n",
       "      <th>4</th>\n",
       "      <td>U001</td>\n",
       "      <td>200762301</td>\n",
       "      <td>C&amp;S WH us</td>\n",
       "      <td>2019</td>\n",
       "      <td>1928851756</td>\n",
       "      <td>2019-02-26</td>\n",
       "      <td>20190224</td>\n",
       "      <td>20190226</td>\n",
       "      <td>RV</td>\n",
       "      <td>20190226</td>\n",
       "      <td>NAC6</td>\n",
       "      <td>1.928852e+09</td>\n",
       "      <td>22492.19</td>\n",
       "      <td>0</td>\n",
       "    </tr>\n",
       "    <tr>\n",
       "      <th>5</th>\n",
       "      <td>U001</td>\n",
       "      <td>200705742</td>\n",
       "      <td>DOT in</td>\n",
       "      <td>2019</td>\n",
       "      <td>1930165046</td>\n",
       "      <td>2019-11-18</td>\n",
       "      <td>20191118</td>\n",
       "      <td>20191118</td>\n",
       "      <td>RV</td>\n",
       "      <td>20191118</td>\n",
       "      <td>NAA8</td>\n",
       "      <td>1.930165e+09</td>\n",
       "      <td>61968.61</td>\n",
       "      <td>-266</td>\n",
       "    </tr>\n",
       "    <tr>\n",
       "      <th>6</th>\n",
       "      <td>U001</td>\n",
       "      <td>200803720</td>\n",
       "      <td>DEC corporation</td>\n",
       "      <td>2019</td>\n",
       "      <td>1929842496</td>\n",
       "      <td>2019-07-09</td>\n",
       "      <td>20190907</td>\n",
       "      <td>20190907</td>\n",
       "      <td>RV</td>\n",
       "      <td>20190901</td>\n",
       "      <td>NAM4</td>\n",
       "      <td>1.929842e+09</td>\n",
       "      <td>1305.26</td>\n",
       "      <td>-8</td>\n",
       "    </tr>\n",
       "    <tr>\n",
       "      <th>7</th>\n",
       "      <td>U001</td>\n",
       "      <td>200705089</td>\n",
       "      <td>JETR llc</td>\n",
       "      <td>2019</td>\n",
       "      <td>1929562148</td>\n",
       "      <td>2019-02-07</td>\n",
       "      <td>20190701</td>\n",
       "      <td>20190702</td>\n",
       "      <td>RV</td>\n",
       "      <td>20190702</td>\n",
       "      <td>NAA8</td>\n",
       "      <td>1.929562e+09</td>\n",
       "      <td>34954.86</td>\n",
       "      <td>0</td>\n",
       "    </tr>\n",
       "  </tbody>\n",
       "</table>\n",
       "</div>"
      ],
      "text/plain": [
       "  business_code cust_number      name_customer  buisness_year      doc_id  \\\n",
       "3          U001   200707822  PUBLI corporation           2020  1930533131   \n",
       "4          U001   200762301          C&S WH us           2019  1928851756   \n",
       "5          U001   200705742             DOT in           2019  1930165046   \n",
       "6          U001   200803720    DEC corporation           2019  1929842496   \n",
       "7          U001   200705089           JETR llc           2019  1929562148   \n",
       "\n",
       "  posting_date  document_create_date  document_create_date.1 document type  \\\n",
       "3   2020-02-16              20200216                20200216            RV   \n",
       "4   2019-02-26              20190224                20190226            RV   \n",
       "5   2019-11-18              20191118                20191118            RV   \n",
       "6   2019-07-09              20190907                20190907            RV   \n",
       "7   2019-02-07              20190701                20190702            RV   \n",
       "\n",
       "   baseline_create_date cust_payment_terms    invoice_id  actual_open_amount  \\\n",
       "3              20200216               NAA8  1.930533e+09            97916.93   \n",
       "4              20190226               NAC6  1.928852e+09            22492.19   \n",
       "5              20191118               NAA8  1.930165e+09            61968.61   \n",
       "6              20190901               NAM4  1.929842e+09             1305.26   \n",
       "7              20190702               NAA8  1.929562e+09            34954.86   \n",
       "\n",
       "   delay_days  \n",
       "3         -28  \n",
       "4           0  \n",
       "5        -266  \n",
       "6          -8  \n",
       "7           0  "
      ]
     },
     "execution_count": 17,
     "metadata": {},
     "output_type": "execute_result"
    }
   ],
   "source": [
    "train.head()"
   ]
  },
  {
   "cell_type": "markdown",
   "id": "c2a77d47",
   "metadata": {},
   "source": [
    "# 3) Splitting"
   ]
  },
  {
   "cell_type": "code",
   "execution_count": 18,
   "id": "0063919a",
   "metadata": {},
   "outputs": [],
   "source": [
    "#sorting the data before splitting\n",
    "\n",
    "train.sort_values(by=['posting_date'],inplace = True)\n",
    "train.reset_index(drop=True, inplace=True)"
   ]
  },
  {
   "cell_type": "code",
   "execution_count": 19,
   "id": "a81d7166",
   "metadata": {},
   "outputs": [],
   "source": [
    "X = train.drop('delay_days',axis=1)\n",
    "y = train['delay_days']"
   ]
  },
  {
   "cell_type": "code",
   "execution_count": 20,
   "id": "e1871860",
   "metadata": {},
   "outputs": [
    {
     "data": {
      "text/plain": [
       "((28000, 13), (6000, 13), (6000, 13))"
      ]
     },
     "execution_count": 20,
     "metadata": {},
     "output_type": "execute_result"
    }
   ],
   "source": [
    "from sklearn.model_selection import train_test_split\n",
    "X_train,X_temp,y_train,y_temp = train_test_split(X,y,test_size=0.3,random_state=0 , shuffle = False)\n",
    "X_validation,X_test,y_validation,y_test = train_test_split(X_temp,y_temp,test_size=0.5,random_state=0 , shuffle = False)\n",
    "X_train.shape , X_validation.shape , X_test.shape"
   ]
  },
  {
   "cell_type": "code",
   "execution_count": 21,
   "id": "d26f3ace",
   "metadata": {},
   "outputs": [
    {
     "data": {
      "text/html": [
       "<div>\n",
       "<style scoped>\n",
       "    .dataframe tbody tr th:only-of-type {\n",
       "        vertical-align: middle;\n",
       "    }\n",
       "\n",
       "    .dataframe tbody tr th {\n",
       "        vertical-align: top;\n",
       "    }\n",
       "\n",
       "    .dataframe thead th {\n",
       "        text-align: right;\n",
       "    }\n",
       "</style>\n",
       "<table border=\"1\" class=\"dataframe\">\n",
       "  <thead>\n",
       "    <tr style=\"text-align: right;\">\n",
       "      <th></th>\n",
       "      <th>business_code</th>\n",
       "      <th>cust_number</th>\n",
       "      <th>name_customer</th>\n",
       "      <th>buisness_year</th>\n",
       "      <th>doc_id</th>\n",
       "      <th>posting_date</th>\n",
       "      <th>document_create_date</th>\n",
       "      <th>document_create_date.1</th>\n",
       "      <th>document type</th>\n",
       "      <th>baseline_create_date</th>\n",
       "      <th>cust_payment_terms</th>\n",
       "      <th>invoice_id</th>\n",
       "      <th>actual_open_amount</th>\n",
       "    </tr>\n",
       "  </thead>\n",
       "  <tbody>\n",
       "    <tr>\n",
       "      <th>0</th>\n",
       "      <td>U001</td>\n",
       "      <td>200793568</td>\n",
       "      <td>SUPE corporation</td>\n",
       "      <td>2019</td>\n",
       "      <td>1928537936</td>\n",
       "      <td>2018-12-30</td>\n",
       "      <td>20181229</td>\n",
       "      <td>20181230</td>\n",
       "      <td>RV</td>\n",
       "      <td>20181230</td>\n",
       "      <td>NAA8</td>\n",
       "      <td>1.928538e+09</td>\n",
       "      <td>2076.03</td>\n",
       "    </tr>\n",
       "    <tr>\n",
       "      <th>1</th>\n",
       "      <td>U001</td>\n",
       "      <td>200704858</td>\n",
       "      <td>WAKE co</td>\n",
       "      <td>2019</td>\n",
       "      <td>1928534357</td>\n",
       "      <td>2018-12-30</td>\n",
       "      <td>20181229</td>\n",
       "      <td>20181230</td>\n",
       "      <td>RV</td>\n",
       "      <td>20181230</td>\n",
       "      <td>NAA8</td>\n",
       "      <td>1.928534e+09</td>\n",
       "      <td>114737.60</td>\n",
       "    </tr>\n",
       "    <tr>\n",
       "      <th>2</th>\n",
       "      <td>U001</td>\n",
       "      <td>200726979</td>\n",
       "      <td>BJ'S  foundation</td>\n",
       "      <td>2019</td>\n",
       "      <td>1928537244</td>\n",
       "      <td>2018-12-30</td>\n",
       "      <td>20181229</td>\n",
       "      <td>20181230</td>\n",
       "      <td>RV</td>\n",
       "      <td>20181230</td>\n",
       "      <td>NAA8</td>\n",
       "      <td>1.928537e+09</td>\n",
       "      <td>116.38</td>\n",
       "    </tr>\n",
       "    <tr>\n",
       "      <th>3</th>\n",
       "      <td>U001</td>\n",
       "      <td>200769623</td>\n",
       "      <td>WAL-MAR corp</td>\n",
       "      <td>2019</td>\n",
       "      <td>1928542942</td>\n",
       "      <td>2018-12-30</td>\n",
       "      <td>20181230</td>\n",
       "      <td>20181230</td>\n",
       "      <td>RV</td>\n",
       "      <td>20181230</td>\n",
       "      <td>NAH4</td>\n",
       "      <td>1.928543e+09</td>\n",
       "      <td>13524.17</td>\n",
       "    </tr>\n",
       "    <tr>\n",
       "      <th>4</th>\n",
       "      <td>U001</td>\n",
       "      <td>200769623</td>\n",
       "      <td>WAL-MAR systems</td>\n",
       "      <td>2019</td>\n",
       "      <td>1928535906</td>\n",
       "      <td>2018-12-30</td>\n",
       "      <td>20181229</td>\n",
       "      <td>20181230</td>\n",
       "      <td>RV</td>\n",
       "      <td>20181230</td>\n",
       "      <td>NAH4</td>\n",
       "      <td>1.928536e+09</td>\n",
       "      <td>16224.21</td>\n",
       "    </tr>\n",
       "  </tbody>\n",
       "</table>\n",
       "</div>"
      ],
      "text/plain": [
       "  business_code cust_number     name_customer  buisness_year      doc_id  \\\n",
       "0          U001   200793568  SUPE corporation           2019  1928537936   \n",
       "1          U001   200704858           WAKE co           2019  1928534357   \n",
       "2          U001   200726979  BJ'S  foundation           2019  1928537244   \n",
       "3          U001   200769623      WAL-MAR corp           2019  1928542942   \n",
       "4          U001   200769623   WAL-MAR systems           2019  1928535906   \n",
       "\n",
       "  posting_date  document_create_date  document_create_date.1 document type  \\\n",
       "0   2018-12-30              20181229                20181230            RV   \n",
       "1   2018-12-30              20181229                20181230            RV   \n",
       "2   2018-12-30              20181229                20181230            RV   \n",
       "3   2018-12-30              20181230                20181230            RV   \n",
       "4   2018-12-30              20181229                20181230            RV   \n",
       "\n",
       "   baseline_create_date cust_payment_terms    invoice_id  actual_open_amount  \n",
       "0              20181230               NAA8  1.928538e+09             2076.03  \n",
       "1              20181230               NAA8  1.928534e+09           114737.60  \n",
       "2              20181230               NAA8  1.928537e+09              116.38  \n",
       "3              20181230               NAH4  1.928543e+09            13524.17  \n",
       "4              20181230               NAH4  1.928536e+09            16224.21  "
      ]
     },
     "execution_count": 21,
     "metadata": {},
     "output_type": "execute_result"
    }
   ],
   "source": [
    "X_train.head()"
   ]
  },
  {
   "cell_type": "markdown",
   "id": "cff1709f",
   "metadata": {},
   "source": [
    "# 4) EDA"
   ]
  },
  {
   "cell_type": "code",
   "execution_count": 22,
   "id": "bd2fefa8",
   "metadata": {},
   "outputs": [
    {
     "data": {
      "text/plain": [
       "<AxesSubplot:xlabel='delay_days', ylabel='Density'>"
      ]
     },
     "execution_count": 22,
     "metadata": {},
     "output_type": "execute_result"
    },
    {
     "data": {
      "image/png": "[encoded data removed]",
      "text/plain": [
       "<Figure size 432x288 with 1 Axes>"
      ]
     },
     "metadata": {
      "needs_background": "light"
     },
     "output_type": "display_data"
    }
   ],
   "source": [
    "sns.distplot(y_train)"
   ]
  },
  {
   "cell_type": "code",
   "execution_count": 23,
   "id": "27819ee0",
   "metadata": {},
   "outputs": [
    {
     "data": {
      "text/plain": [
       "<AxesSubplot:ylabel='Frequency'>"
      ]
     },
     "execution_count": 23,
     "metadata": {},
     "output_type": "execute_result"
    },
    {
     "data": {
      "image/png": "[encoded data removed]",
      "text/plain": [
       "<Figure size 432x288 with 1 Axes>"
      ]
     },
     "metadata": {
      "needs_background": "light"
     },
     "output_type": "display_data"
    }
   ],
   "source": [
    "X_train.buisness_year.plot.hist(rot = 0,width = 0.1)"
   ]
  },
  {
   "cell_type": "code",
   "execution_count": 24,
   "id": "f6b5ee23",
   "metadata": {},
   "outputs": [],
   "source": [
    "#dropping buisness_year due to only value\n",
    "X_train.drop(['buisness_year'],axis = 1,inplace = True)\n",
    "X_validation.drop(['buisness_year'],axis = 1,inplace = True)\n",
    "X_test.drop(['buisness_year'],axis = 1,inplace = True)"
   ]
  },
  {
   "cell_type": "code",
   "execution_count": 25,
   "id": "f7123657",
   "metadata": {
    "scrolled": true
   },
   "outputs": [
    {
     "data": {
      "text/plain": [
       "<AxesSubplot:xlabel='delay_days', ylabel='posting_date'>"
      ]
     },
     "execution_count": 25,
     "metadata": {},
     "output_type": "execute_result"
    },
    {
     "data": {
      "image/png": "[encoded data removed]",
      "text/plain": [
       "<Figure size 432x288 with 1 Axes>"
      ]
     },
     "metadata": {
      "needs_background": "light"
     },
     "output_type": "display_data"
    }
   ],
   "source": [
    "#No major outliers\n",
    "sns.scatterplot(data=X_train.merge(y_train,on = X_train.index), x=\"delay_days\", y=\"posting_date\")"
   ]
  },
  {
   "cell_type": "markdown",
   "id": "3459ff77",
   "metadata": {},
   "source": [
    "# 5) Feature Engineering"
   ]
  },
  {
   "cell_type": "code",
   "execution_count": 26,
   "id": "f30ed404",
   "metadata": {
    "scrolled": true
   },
   "outputs": [
    {
     "name": "stdout",
     "output_type": "stream",
     "text": [
      "..........TRAIN..........\n",
      "business_code                 6\n",
      "cust_number                 933\n",
      "name_customer              3321\n",
      "doc_id                    27409\n",
      "posting_date                284\n",
      "document_create_date        321\n",
      "document_create_date.1      285\n",
      "document type                 2\n",
      "baseline_create_date        321\n",
      "cust_payment_terms           64\n",
      "invoice_id                27409\n",
      "actual_open_amount        25223\n",
      "dtype: int64\n",
      "\n",
      "..........VALIDATION..........\n",
      "business_code                4\n",
      "cust_number                508\n",
      "name_customer             1503\n",
      "doc_id                    5876\n",
      "posting_date                62\n",
      "document_create_date       160\n",
      "document_create_date.1      62\n",
      "document type                1\n",
      "baseline_create_date       131\n",
      "cust_payment_terms          47\n",
      "invoice_id                5876\n",
      "actual_open_amount        5638\n",
      "dtype: int64\n",
      "..........TEST...........\n",
      "business_code                5\n",
      "cust_number                501\n",
      "name_customer             1478\n",
      "doc_id                    5880\n",
      "posting_date                77\n",
      "document_create_date       107\n",
      "document_create_date.1      77\n",
      "document type                1\n",
      "baseline_create_date        97\n",
      "cust_payment_terms          48\n",
      "invoice_id                5880\n",
      "actual_open_amount        5560\n",
      "dtype: int64\n"
     ]
    }
   ],
   "source": [
    "def unique():\n",
    "    print(\"..........TRAIN..........\")\n",
    "    print(X_train.nunique())\n",
    "    print(\"\\n..........VALIDATION..........\")\n",
    "    print(X_validation.nunique())\n",
    "    print(\"..........TEST...........\")\n",
    "    print(X_test.nunique())\n",
    "unique()"
   ]
  },
  {
   "cell_type": "code",
   "execution_count": 27,
   "id": "9e39c3ce",
   "metadata": {
    "scrolled": true
   },
   "outputs": [
    {
     "name": "stdout",
     "output_type": "stream",
     "text": [
      "<class 'pandas.core.frame.DataFrame'>\n",
      "Int64Index: 28000 entries, 0 to 27999\n",
      "Data columns (total 12 columns):\n",
      " #   Column                  Non-Null Count  Dtype         \n",
      "---  ------                  --------------  -----         \n",
      " 0   business_code           28000 non-null  object        \n",
      " 1   cust_number             28000 non-null  object        \n",
      " 2   name_customer           28000 non-null  object        \n",
      " 3   doc_id                  28000 non-null  int64         \n",
      " 4   posting_date            28000 non-null  datetime64[ns]\n",
      " 5   document_create_date    28000 non-null  int64         \n",
      " 6   document_create_date.1  28000 non-null  int64         \n",
      " 7   document type           28000 non-null  object        \n",
      " 8   baseline_create_date    28000 non-null  int64         \n",
      " 9   cust_payment_terms      28000 non-null  object        \n",
      " 10  invoice_id              28000 non-null  float64       \n",
      " 11  actual_open_amount      28000 non-null  float64       \n",
      "dtypes: datetime64[ns](1), float64(2), int64(4), object(5)\n",
      "memory usage: 2.8+ MB\n"
     ]
    }
   ],
   "source": [
    "X_train.info()"
   ]
  },
  {
   "cell_type": "markdown",
   "id": "5dd6f534",
   "metadata": {},
   "source": [
    "#Label Encoding"
   ]
  },
  {
   "cell_type": "code",
   "execution_count": 28,
   "id": "96778d3b",
   "metadata": {},
   "outputs": [],
   "source": [
    "# 1) labelEcncoding business_code\n",
    "\n",
    "from sklearn.preprocessing import LabelEncoder\n",
    "le = LabelEncoder()\n",
    "le.fit(X_train['business_code'])\n",
    "X_train['business_code_en'] = le.transform(X_train['business_code'])"
   ]
  },
  {
   "cell_type": "code",
   "execution_count": 29,
   "id": "65489b3c",
   "metadata": {},
   "outputs": [],
   "source": [
    "#transforming same as X_train in X_validation and X_test\n",
    "\n",
    "X_validation['business_code_en'] = le.transform(X_validation['business_code'])\n",
    "X_test['business_code_en'] = le.transform(X_test['business_code'])"
   ]
  },
  {
   "cell_type": "code",
   "execution_count": 30,
   "id": "be0b5804",
   "metadata": {},
   "outputs": [],
   "source": [
    "#dropping business_code\n",
    "\n",
    "X_train.drop(['business_code'],axis =1,inplace = True)\n",
    "X_validation.drop(['business_code'],axis =1,inplace = True)\n",
    "X_test.drop(['business_code'],axis =1,inplace = True)"
   ]
  },
  {
   "cell_type": "code",
   "execution_count": 31,
   "id": "7588003d",
   "metadata": {},
   "outputs": [],
   "source": [
    "# 2) labelEncoding document type\n",
    "from sklearn.preprocessing import LabelEncoder\n",
    "le = LabelEncoder()\n",
    "le.fit(X_train['document type'])\n",
    "X_train['document_type_en'] = le.transform(X_train['document type'])"
   ]
  },
  {
   "cell_type": "code",
   "execution_count": 32,
   "id": "e18be804",
   "metadata": {},
   "outputs": [],
   "source": [
    "#transforming same as X_train in X_validation and X_test\n",
    "\n",
    "X_validation['document_type_en'] = le.transform(X_validation['document type'])\n",
    "X_test['document_type_en'] = le.transform(X_test['document type'])"
   ]
  },
  {
   "cell_type": "code",
   "execution_count": 33,
   "id": "7617f5b4",
   "metadata": {},
   "outputs": [],
   "source": [
    "#dropping document type\n",
    "\n",
    "X_train.drop(['document type'],axis =1,inplace = True)\n",
    "X_validation.drop(['document type'],axis =1,inplace = True)\n",
    "X_test.drop(['document type'],axis =1,inplace = True)"
   ]
  },
  {
   "cell_type": "code",
   "execution_count": 34,
   "id": "fad3541b",
   "metadata": {},
   "outputs": [],
   "source": [
    "'''dropping cust_number,name_customer,cust_payment_terms\n",
    "due to lot of values in a column and different for\n",
    "all X_train,X_validation,X_test\n",
    "'''\n",
    "X_train.drop(['cust_number','name_customer','cust_payment_terms'],axis =1,inplace = True)\n",
    "X_validation.drop(['cust_number','name_customer','cust_payment_terms'],axis =1,inplace = True)\n",
    "X_test.drop(['cust_number','name_customer','cust_payment_terms'],axis =1,inplace = True)\n"
   ]
  },
  {
   "cell_type": "code",
   "execution_count": 35,
   "id": "9ec19518",
   "metadata": {},
   "outputs": [],
   "source": [
    "#extracting month,day and week_day from posting_date\n",
    "\n",
    "X_train['month'] = pd.to_datetime(X_train['posting_date']).dt.month\n",
    "X_train['day'] = pd.to_datetime(X_train['posting_date']).dt.day\n",
    "X_train['week_day'] = pd.to_datetime(X_train['posting_date']).dt.weekday"
   ]
  },
  {
   "cell_type": "code",
   "execution_count": 36,
   "id": "92c6a2b6",
   "metadata": {},
   "outputs": [],
   "source": [
    "X_validation['month'] = pd.to_datetime(X_validation['posting_date']).dt.month\n",
    "X_validation['day'] = pd.to_datetime(X_validation['posting_date']).dt.day\n",
    "X_validation['week_day'] = pd.to_datetime(X_validation['posting_date']).dt.weekday"
   ]
  },
  {
   "cell_type": "code",
   "execution_count": 37,
   "id": "7c95e0fc",
   "metadata": {},
   "outputs": [],
   "source": [
    "X_test['month'] = pd.to_datetime(X_test['posting_date']).dt.month\n",
    "X_test['day'] = pd.to_datetime(X_test['posting_date']).dt.day\n",
    "X_test['week_day'] = pd.to_datetime(X_test['posting_date']).dt.weekday"
   ]
  },
  {
   "cell_type": "code",
   "execution_count": 38,
   "id": "60cbc954",
   "metadata": {},
   "outputs": [],
   "source": [
    "#dropping posting_date due to no further usage.\n",
    "\n",
    "X_train.drop(['posting_date'],axis =1,inplace = True)\n",
    "X_validation.drop(['posting_date'],axis =1,inplace = True)\n",
    "X_test.drop(['posting_date'],axis =1,inplace = True)"
   ]
  },
  {
   "cell_type": "markdown",
   "id": "4d76bd94",
   "metadata": {},
   "source": [
    "# 6) Feature Selection"
   ]
  },
  {
   "cell_type": "code",
   "execution_count": 39,
   "id": "42f24312",
   "metadata": {},
   "outputs": [
    {
     "data": {
      "text/plain": [
       "<AxesSubplot:>"
      ]
     },
     "execution_count": 39,
     "metadata": {},
     "output_type": "execute_result"
    },
    {
     "data": {
      "image/png": "[encoded data removed]",
      "text/plain": [
       "<Figure size 864x720 with 2 Axes>"
      ]
     },
     "metadata": {
      "needs_background": "light"
     },
     "output_type": "display_data"
    }
   ],
   "source": [
    "plt.figure(figsize=(12,10))\n",
    "cor = X_train.merge(y_train,on = X_train.index).corr()\n",
    "sns.heatmap(cor,linewidths=0.1,vmax=1.0,square=True, cmap=plt.cm.RdBu, linecolor='white', annot=True)"
   ]
  },
  {
   "cell_type": "code",
   "execution_count": 40,
   "id": "8ea3e0bc",
   "metadata": {},
   "outputs": [],
   "source": [
    "#dropping doc_id since invoice_id is almost similar to it\n",
    "\n",
    "X_train.drop(['doc_id'],axis =1,inplace = True)\n",
    "X_validation.drop(['doc_id'],axis =1,inplace = True)\n",
    "X_test.drop(['doc_id'],axis =1,inplace = True)"
   ]
  },
  {
   "cell_type": "code",
   "execution_count": 41,
   "id": "b8b5c29a",
   "metadata": {},
   "outputs": [],
   "source": [
    "#dropping document_type_en due to very low correlation\n",
    "\n",
    "X_train.drop(['document_type_en'],axis =1,inplace = True)\n",
    "X_validation.drop(['document_type_en'],axis =1,inplace = True)\n",
    "X_test.drop(['document_type_en'],axis =1,inplace = True)"
   ]
  },
  {
   "cell_type": "code",
   "execution_count": 42,
   "id": "29c9dffd",
   "metadata": {},
   "outputs": [],
   "source": [
    "#dropping document_create_date and document_create_date.1 due to very low correlation with target data\n",
    "\n",
    "X_train.drop(['document_create_date.1'],axis = 1,inplace = True)\n",
    "X_validation.drop(['document_create_date.1'],axis = 1,inplace = True)\n",
    "X_test.drop(['document_create_date.1'],axis = 1,inplace = True)"
   ]
  },
  {
   "cell_type": "code",
   "execution_count": 43,
   "id": "b822b045",
   "metadata": {},
   "outputs": [
    {
     "data": {
      "text/html": [
       "<div>\n",
       "<style scoped>\n",
       "    .dataframe tbody tr th:only-of-type {\n",
       "        vertical-align: middle;\n",
       "    }\n",
       "\n",
       "    .dataframe tbody tr th {\n",
       "        vertical-align: top;\n",
       "    }\n",
       "\n",
       "    .dataframe thead th {\n",
       "        text-align: right;\n",
       "    }\n",
       "</style>\n",
       "<table border=\"1\" class=\"dataframe\">\n",
       "  <thead>\n",
       "    <tr style=\"text-align: right;\">\n",
       "      <th></th>\n",
       "      <th>key_0</th>\n",
       "      <th>document_create_date</th>\n",
       "      <th>baseline_create_date</th>\n",
       "      <th>invoice_id</th>\n",
       "      <th>actual_open_amount</th>\n",
       "      <th>business_code_en</th>\n",
       "      <th>month</th>\n",
       "      <th>day</th>\n",
       "      <th>week_day</th>\n",
       "      <th>delay_days</th>\n",
       "    </tr>\n",
       "  </thead>\n",
       "  <tbody>\n",
       "    <tr>\n",
       "      <th>key_0</th>\n",
       "      <td>6.533567e+07</td>\n",
       "      <td>2.011120e+06</td>\n",
       "      <td>1.714825e+06</td>\n",
       "      <td>3.602235e+10</td>\n",
       "      <td>4.773181e+05</td>\n",
       "      <td>-8.026760e+01</td>\n",
       "      <td>2.049337e+04</td>\n",
       "      <td>2.095643e+03</td>\n",
       "      <td>1.652029e+02</td>\n",
       "      <td>-2.279355e+05</td>\n",
       "    </tr>\n",
       "    <tr>\n",
       "      <th>document_create_date</th>\n",
       "      <td>2.011120e+06</td>\n",
       "      <td>7.270966e+05</td>\n",
       "      <td>4.574459e+05</td>\n",
       "      <td>5.006900e+09</td>\n",
       "      <td>6.171904e+05</td>\n",
       "      <td>-1.134590e+01</td>\n",
       "      <td>1.922686e+02</td>\n",
       "      <td>-1.410503e+02</td>\n",
       "      <td>2.692122e+01</td>\n",
       "      <td>-1.207615e+04</td>\n",
       "    </tr>\n",
       "    <tr>\n",
       "      <th>baseline_create_date</th>\n",
       "      <td>1.714825e+06</td>\n",
       "      <td>4.574459e+05</td>\n",
       "      <td>4.541017e+05</td>\n",
       "      <td>4.583495e+09</td>\n",
       "      <td>3.544824e+05</td>\n",
       "      <td>-8.563338e+00</td>\n",
       "      <td>1.104728e+02</td>\n",
       "      <td>-5.621203e+02</td>\n",
       "      <td>1.698567e+01</td>\n",
       "      <td>-1.072516e+04</td>\n",
       "    </tr>\n",
       "    <tr>\n",
       "      <th>invoice_id</th>\n",
       "      <td>3.602235e+10</td>\n",
       "      <td>5.006900e+09</td>\n",
       "      <td>4.583495e+09</td>\n",
       "      <td>7.651045e+16</td>\n",
       "      <td>1.208895e+12</td>\n",
       "      <td>-7.554879e+07</td>\n",
       "      <td>9.771473e+06</td>\n",
       "      <td>5.082304e+06</td>\n",
       "      <td>-2.349721e+06</td>\n",
       "      <td>6.111988e+08</td>\n",
       "    </tr>\n",
       "    <tr>\n",
       "      <th>actual_open_amount</th>\n",
       "      <td>4.773181e+05</td>\n",
       "      <td>6.171904e+05</td>\n",
       "      <td>3.544824e+05</td>\n",
       "      <td>1.208895e+12</td>\n",
       "      <td>1.501541e+09</td>\n",
       "      <td>-1.744635e+03</td>\n",
       "      <td>-3.086562e+02</td>\n",
       "      <td>6.874961e+03</td>\n",
       "      <td>-1.213898e+02</td>\n",
       "      <td>6.366682e+04</td>\n",
       "    </tr>\n",
       "    <tr>\n",
       "      <th>business_code_en</th>\n",
       "      <td>-8.026760e+01</td>\n",
       "      <td>-1.134590e+01</td>\n",
       "      <td>-8.563338e+00</td>\n",
       "      <td>-7.554879e+07</td>\n",
       "      <td>-1.744635e+03</td>\n",
       "      <td>3.218338e-01</td>\n",
       "      <td>-2.301105e-02</td>\n",
       "      <td>1.365452e-02</td>\n",
       "      <td>1.877762e-02</td>\n",
       "      <td>-5.986048e-01</td>\n",
       "    </tr>\n",
       "    <tr>\n",
       "      <th>month</th>\n",
       "      <td>2.049337e+04</td>\n",
       "      <td>1.922686e+02</td>\n",
       "      <td>1.104728e+02</td>\n",
       "      <td>9.771473e+06</td>\n",
       "      <td>-3.086562e+02</td>\n",
       "      <td>-2.301105e-02</td>\n",
       "      <td>7.066180e+00</td>\n",
       "      <td>-1.121295e+00</td>\n",
       "      <td>7.423787e-02</td>\n",
       "      <td>-7.354209e+01</td>\n",
       "    </tr>\n",
       "    <tr>\n",
       "      <th>day</th>\n",
       "      <td>2.095643e+03</td>\n",
       "      <td>-1.410503e+02</td>\n",
       "      <td>-5.621203e+02</td>\n",
       "      <td>5.082304e+06</td>\n",
       "      <td>6.874961e+03</td>\n",
       "      <td>1.365452e-02</td>\n",
       "      <td>-1.121295e+00</td>\n",
       "      <td>7.836673e+01</td>\n",
       "      <td>-7.173236e-01</td>\n",
       "      <td>7.843371e+01</td>\n",
       "    </tr>\n",
       "    <tr>\n",
       "      <th>week_day</th>\n",
       "      <td>1.652029e+02</td>\n",
       "      <td>2.692122e+01</td>\n",
       "      <td>1.698567e+01</td>\n",
       "      <td>-2.349721e+06</td>\n",
       "      <td>-1.213898e+02</td>\n",
       "      <td>1.877762e-02</td>\n",
       "      <td>7.423787e-02</td>\n",
       "      <td>-7.173236e-01</td>\n",
       "      <td>3.557673e+00</td>\n",
       "      <td>-2.718228e+00</td>\n",
       "    </tr>\n",
       "    <tr>\n",
       "      <th>delay_days</th>\n",
       "      <td>-2.279355e+05</td>\n",
       "      <td>-1.207615e+04</td>\n",
       "      <td>-1.072516e+04</td>\n",
       "      <td>6.111988e+08</td>\n",
       "      <td>6.366682e+04</td>\n",
       "      <td>-5.986048e-01</td>\n",
       "      <td>-7.354209e+01</td>\n",
       "      <td>7.843371e+01</td>\n",
       "      <td>-2.718228e+00</td>\n",
       "      <td>7.064664e+03</td>\n",
       "    </tr>\n",
       "  </tbody>\n",
       "</table>\n",
       "</div>"
      ],
      "text/plain": [
       "                             key_0  document_create_date  \\\n",
       "key_0                 6.533567e+07          2.011120e+06   \n",
       "document_create_date  2.011120e+06          7.270966e+05   \n",
       "baseline_create_date  1.714825e+06          4.574459e+05   \n",
       "invoice_id            3.602235e+10          5.006900e+09   \n",
       "actual_open_amount    4.773181e+05          6.171904e+05   \n",
       "business_code_en     -8.026760e+01         -1.134590e+01   \n",
       "month                 2.049337e+04          1.922686e+02   \n",
       "day                   2.095643e+03         -1.410503e+02   \n",
       "week_day              1.652029e+02          2.692122e+01   \n",
       "delay_days           -2.279355e+05         -1.207615e+04   \n",
       "\n",
       "                      baseline_create_date    invoice_id  actual_open_amount  \\\n",
       "key_0                         1.714825e+06  3.602235e+10        4.773181e+05   \n",
       "document_create_date          4.574459e+05  5.006900e+09        6.171904e+05   \n",
       "baseline_create_date          4.541017e+05  4.583495e+09        3.544824e+05   \n",
       "invoice_id                    4.583495e+09  7.651045e+16        1.208895e+12   \n",
       "actual_open_amount            3.544824e+05  1.208895e+12        1.501541e+09   \n",
       "business_code_en             -8.563338e+00 -7.554879e+07       -1.744635e+03   \n",
       "month                         1.104728e+02  9.771473e+06       -3.086562e+02   \n",
       "day                          -5.621203e+02  5.082304e+06        6.874961e+03   \n",
       "week_day                      1.698567e+01 -2.349721e+06       -1.213898e+02   \n",
       "delay_days                   -1.072516e+04  6.111988e+08        6.366682e+04   \n",
       "\n",
       "                      business_code_en         month           day  \\\n",
       "key_0                    -8.026760e+01  2.049337e+04  2.095643e+03   \n",
       "document_create_date     -1.134590e+01  1.922686e+02 -1.410503e+02   \n",
       "baseline_create_date     -8.563338e+00  1.104728e+02 -5.621203e+02   \n",
       "invoice_id               -7.554879e+07  9.771473e+06  5.082304e+06   \n",
       "actual_open_amount       -1.744635e+03 -3.086562e+02  6.874961e+03   \n",
       "business_code_en          3.218338e-01 -2.301105e-02  1.365452e-02   \n",
       "month                    -2.301105e-02  7.066180e+00 -1.121295e+00   \n",
       "day                       1.365452e-02 -1.121295e+00  7.836673e+01   \n",
       "week_day                  1.877762e-02  7.423787e-02 -7.173236e-01   \n",
       "delay_days               -5.986048e-01 -7.354209e+01  7.843371e+01   \n",
       "\n",
       "                          week_day    delay_days  \n",
       "key_0                 1.652029e+02 -2.279355e+05  \n",
       "document_create_date  2.692122e+01 -1.207615e+04  \n",
       "baseline_create_date  1.698567e+01 -1.072516e+04  \n",
       "invoice_id           -2.349721e+06  6.111988e+08  \n",
       "actual_open_amount   -1.213898e+02  6.366682e+04  \n",
       "business_code_en      1.877762e-02 -5.986048e-01  \n",
       "month                 7.423787e-02 -7.354209e+01  \n",
       "day                  -7.173236e-01  7.843371e+01  \n",
       "week_day              3.557673e+00 -2.718228e+00  \n",
       "delay_days           -2.718228e+00  7.064664e+03  "
      ]
     },
     "execution_count": 43,
     "metadata": {},
     "output_type": "execute_result"
    }
   ],
   "source": [
    "#Covariance\n",
    "\n",
    "X_train.merge(y_train,on = X_train.index).cov()"
   ]
  },
  {
   "cell_type": "code",
   "execution_count": 44,
   "id": "8d058c28",
   "metadata": {},
   "outputs": [
    {
     "data": {
      "text/plain": [
       "array([7.27070647e+05, 4.54085492e+05, 7.65077222e+16, 1.50148732e+09,\n",
       "       3.21822346e-01, 7.06592811e+00, 7.83639318e+01, 3.55754553e+00])"
      ]
     },
     "execution_count": 44,
     "metadata": {},
     "output_type": "execute_result"
    }
   ],
   "source": [
    "from sklearn.feature_selection import VarianceThreshold\n",
    "vt = VarianceThreshold(0.01)\n",
    "vt.fit(X_train)\n",
    "vt.variances_"
   ]
  },
  {
   "cell_type": "markdown",
   "id": "90ca4be5",
   "metadata": {},
   "source": [
    "## 7) Modelling"
   ]
  },
  {
   "cell_type": "markdown",
   "id": "f3b7da5a",
   "metadata": {},
   "source": [
    "#1 Linear Regression"
   ]
  },
  {
   "cell_type": "code",
   "execution_count": 45,
   "id": "b0a3c9b6",
   "metadata": {},
   "outputs": [
    {
     "data": {
      "text/plain": [
       "LinearRegression()"
      ]
     },
     "execution_count": 45,
     "metadata": {},
     "output_type": "execute_result"
    }
   ],
   "source": [
    "#importing model and fitting\n",
    "\n",
    "from sklearn.linear_model import LinearRegression\n",
    "lr_model = LinearRegression()\n",
    "lr_model.fit(X_train, y_train)"
   ]
  },
  {
   "cell_type": "code",
   "execution_count": 46,
   "id": "420bb13b",
   "metadata": {
    "scrolled": true
   },
   "outputs": [
    {
     "data": {
      "text/plain": [
       "array([-57.03744424, -57.09572776, -47.0172466 , ..., -76.68016483,\n",
       "       -76.48714522, -76.19064259])"
      ]
     },
     "execution_count": 46,
     "metadata": {},
     "output_type": "execute_result"
    }
   ],
   "source": [
    "#prediction of X_validation data\n",
    "\n",
    "lr_predict1 = lr_model.predict(X_validation)\n",
    "lr_predict1"
   ]
  },
  {
   "cell_type": "code",
   "execution_count": 47,
   "id": "ed5f4d65",
   "metadata": {},
   "outputs": [
    {
     "data": {
      "text/plain": [
       "99.96701985628519"
      ]
     },
     "execution_count": 47,
     "metadata": {},
     "output_type": "execute_result"
    }
   ],
   "source": [
    "#mean square error\n",
    "\n",
    "from sklearn.metrics import mean_squared_error as mse\n",
    "mse(y_validation, lr_predict1, squared=False)"
   ]
  },
  {
   "cell_type": "code",
   "execution_count": 48,
   "id": "5ffd2703",
   "metadata": {
    "scrolled": true
   },
   "outputs": [
    {
     "data": {
      "text/plain": [
       "223.70840096419283"
      ]
     },
     "execution_count": 48,
     "metadata": {},
     "output_type": "execute_result"
    }
   ],
   "source": [
    "#prediction on X_test data\n",
    "\n",
    "lr_predict2 = lr_model.predict(X_test)\n",
    "mse(y_test,lr_predict2,squared = False)"
   ]
  },
  {
   "cell_type": "code",
   "execution_count": 49,
   "id": "33bb53fb",
   "metadata": {},
   "outputs": [
    {
     "data": {
      "text/html": [
       "<div>\n",
       "<style scoped>\n",
       "    .dataframe tbody tr th:only-of-type {\n",
       "        vertical-align: middle;\n",
       "    }\n",
       "\n",
       "    .dataframe tbody tr th {\n",
       "        vertical-align: top;\n",
       "    }\n",
       "\n",
       "    .dataframe thead th {\n",
       "        text-align: right;\n",
       "    }\n",
       "</style>\n",
       "<table border=\"1\" class=\"dataframe\">\n",
       "  <thead>\n",
       "    <tr style=\"text-align: right;\">\n",
       "      <th></th>\n",
       "      <th>Predicted</th>\n",
       "      <th>Actuals</th>\n",
       "    </tr>\n",
       "  </thead>\n",
       "  <tbody>\n",
       "    <tr>\n",
       "      <th>0</th>\n",
       "      <td>-76.586478</td>\n",
       "      <td>2</td>\n",
       "    </tr>\n",
       "    <tr>\n",
       "      <th>1</th>\n",
       "      <td>-75.029381</td>\n",
       "      <td>-1</td>\n",
       "    </tr>\n",
       "    <tr>\n",
       "      <th>2</th>\n",
       "      <td>-76.405221</td>\n",
       "      <td>1</td>\n",
       "    </tr>\n",
       "    <tr>\n",
       "      <th>3</th>\n",
       "      <td>-76.703441</td>\n",
       "      <td>0</td>\n",
       "    </tr>\n",
       "    <tr>\n",
       "      <th>4</th>\n",
       "      <td>-75.228860</td>\n",
       "      <td>0</td>\n",
       "    </tr>\n",
       "    <tr>\n",
       "      <th>...</th>\n",
       "      <td>...</td>\n",
       "      <td>...</td>\n",
       "    </tr>\n",
       "    <tr>\n",
       "      <th>5995</th>\n",
       "      <td>-270.301416</td>\n",
       "      <td>3</td>\n",
       "    </tr>\n",
       "    <tr>\n",
       "      <th>5996</th>\n",
       "      <td>-271.404240</td>\n",
       "      <td>12</td>\n",
       "    </tr>\n",
       "    <tr>\n",
       "      <th>5997</th>\n",
       "      <td>-272.086959</td>\n",
       "      <td>0</td>\n",
       "    </tr>\n",
       "    <tr>\n",
       "      <th>5998</th>\n",
       "      <td>-269.917139</td>\n",
       "      <td>1</td>\n",
       "    </tr>\n",
       "    <tr>\n",
       "      <th>5999</th>\n",
       "      <td>-270.840566</td>\n",
       "      <td>-1</td>\n",
       "    </tr>\n",
       "  </tbody>\n",
       "</table>\n",
       "<p>6000 rows × 2 columns</p>\n",
       "</div>"
      ],
      "text/plain": [
       "       Predicted  Actuals\n",
       "0     -76.586478        2\n",
       "1     -75.029381       -1\n",
       "2     -76.405221        1\n",
       "3     -76.703441        0\n",
       "4     -75.228860        0\n",
       "...          ...      ...\n",
       "5995 -270.301416        3\n",
       "5996 -271.404240       12\n",
       "5997 -272.086959        0\n",
       "5998 -269.917139        1\n",
       "5999 -270.840566       -1\n",
       "\n",
       "[6000 rows x 2 columns]"
      ]
     },
     "execution_count": 49,
     "metadata": {},
     "output_type": "execute_result"
    }
   ],
   "source": [
    "met = pd.DataFrame(zip(lr_predict2, y_test),columns=['Predicted','Actuals'])\n",
    "met"
   ]
  },
  {
   "cell_type": "code",
   "execution_count": 50,
   "id": "629edfce",
   "metadata": {},
   "outputs": [
    {
     "data": {
      "text/plain": [
       "-5.899196856585639"
      ]
     },
     "execution_count": 50,
     "metadata": {},
     "output_type": "execute_result"
    }
   ],
   "source": [
    "#r2 score\n",
    "\n",
    "from sklearn.metrics import r2_score\n",
    "lr_r2 = r2_score(y_test,lr_predict2)\n",
    "lr_r2"
   ]
  },
  {
   "cell_type": "markdown",
   "id": "bf862e4e",
   "metadata": {},
   "source": [
    "#2 Support Vector Regression"
   ]
  },
  {
   "cell_type": "code",
   "execution_count": 51,
   "id": "d9a1e9e6",
   "metadata": {
    "scrolled": true
   },
   "outputs": [
    {
     "data": {
      "text/plain": [
       "SVR()"
      ]
     },
     "execution_count": 51,
     "metadata": {},
     "output_type": "execute_result"
    }
   ],
   "source": [
    "#importing model and fitting\n",
    "\n",
    "from sklearn.svm import SVR\n",
    "svr_model = SVR(kernel = 'rbf')\n",
    "svr_model.fit(X_train,y_train)"
   ]
  },
  {
   "cell_type": "code",
   "execution_count": 52,
   "id": "1fc68f61",
   "metadata": {},
   "outputs": [
    {
     "data": {
      "text/plain": [
       "array([0.10107261, 0.10106002, 4.90000696, ..., 0.10113112, 0.10108214,\n",
       "       0.10107721])"
      ]
     },
     "execution_count": 52,
     "metadata": {},
     "output_type": "execute_result"
    }
   ],
   "source": [
    "#prediction of X_validation data\n",
    "\n",
    "svr_predict1 = svr_model.predict(X_validation)\n",
    "svr_predict1"
   ]
  },
  {
   "cell_type": "code",
   "execution_count": 53,
   "id": "e8675ea7",
   "metadata": {},
   "outputs": [
    {
     "data": {
      "text/plain": [
       "112.57306005266673"
      ]
     },
     "execution_count": 53,
     "metadata": {},
     "output_type": "execute_result"
    }
   ],
   "source": [
    "#mean square error\n",
    "\n",
    "from sklearn.metrics import mean_squared_error as mse\n",
    "mse(y_validation, svr_predict1, squared=False)"
   ]
  },
  {
   "cell_type": "code",
   "execution_count": 54,
   "id": "e7036fa1",
   "metadata": {},
   "outputs": [],
   "source": [
    "#prediction on X_test data\n",
    "\n",
    "svr_predict2 = svr_model.predict(X_test)"
   ]
  },
  {
   "cell_type": "code",
   "execution_count": 55,
   "id": "097ba4be",
   "metadata": {},
   "outputs": [
    {
     "data": {
      "text/plain": [
       "94.24940154212206"
      ]
     },
     "execution_count": 55,
     "metadata": {},
     "output_type": "execute_result"
    }
   ],
   "source": [
    "#mean square error\n",
    "\n",
    "mse(y_test, svr_predict2, squared=False)"
   ]
  },
  {
   "cell_type": "code",
   "execution_count": 56,
   "id": "67867f4b",
   "metadata": {},
   "outputs": [
    {
     "data": {
      "text/plain": [
       "-0.22459125103770128"
      ]
     },
     "execution_count": 56,
     "metadata": {},
     "output_type": "execute_result"
    }
   ],
   "source": [
    "#r2_score\n",
    "\n",
    "from sklearn.metrics import r2_score\n",
    "svr_r2 = r2_score(y_test,svr_predict2)\n",
    "svr_r2"
   ]
  },
  {
   "cell_type": "markdown",
   "id": "658ff4e2",
   "metadata": {},
   "source": [
    "#3 Decision Tree Regressor"
   ]
  },
  {
   "cell_type": "code",
   "execution_count": 57,
   "id": "3954c5b6",
   "metadata": {},
   "outputs": [
    {
     "data": {
      "text/plain": [
       "DecisionTreeRegressor(max_depth=7, random_state=0)"
      ]
     },
     "execution_count": 57,
     "metadata": {},
     "output_type": "execute_result"
    }
   ],
   "source": [
    "#importing model and fitting\n",
    "\n",
    "from sklearn.tree import DecisionTreeRegressor\n",
    "dtr_model = DecisionTreeRegressor(random_state=0 , max_depth=7)\n",
    "dtr_model.fit(X_train,y_train)"
   ]
  },
  {
   "cell_type": "code",
   "execution_count": 58,
   "id": "e9af3e9f",
   "metadata": {},
   "outputs": [
    {
     "data": {
      "text/plain": [
       "array([  8.13333333,  -3.71741362, -45.29761905, ...,  -3.71741362,\n",
       "        -3.71741362,  -3.71741362])"
      ]
     },
     "execution_count": 58,
     "metadata": {},
     "output_type": "execute_result"
    }
   ],
   "source": [
    "#prediction of X_validation data\n",
    "\n",
    "dtr_predict1 = dtr_model.predict(X_validation)\n",
    "dtr_predict1"
   ]
  },
  {
   "cell_type": "code",
   "execution_count": 59,
   "id": "c4873d8a",
   "metadata": {},
   "outputs": [
    {
     "data": {
      "text/plain": [
       "112.57306005266673"
      ]
     },
     "execution_count": 59,
     "metadata": {},
     "output_type": "execute_result"
    }
   ],
   "source": [
    "#mean square error\n",
    "\n",
    "from sklearn.metrics import mean_squared_error as mse\n",
    "mse(y_validation, svr_predict1, squared=False)"
   ]
  },
  {
   "cell_type": "code",
   "execution_count": 60,
   "id": "ab327f40",
   "metadata": {},
   "outputs": [
    {
     "data": {
      "text/plain": [
       "110.68715742749553"
      ]
     },
     "execution_count": 60,
     "metadata": {},
     "output_type": "execute_result"
    }
   ],
   "source": [
    "#mean square error\n",
    "#prediction on X_test data\n",
    "\n",
    "dtr_predict2 = dtr_model.predict(X_test)\n",
    "mse(y_test, dtr_predict2, squared=False)"
   ]
  },
  {
   "cell_type": "code",
   "execution_count": 61,
   "id": "d25ad252",
   "metadata": {},
   "outputs": [
    {
     "data": {
      "text/plain": [
       "-0.6889952130355121"
      ]
     },
     "execution_count": 61,
     "metadata": {},
     "output_type": "execute_result"
    }
   ],
   "source": [
    "#r2_score\n",
    "\n",
    "from sklearn.metrics import r2_score\n",
    "dtr_r2 = r2_score(y_test,dtr_predict2)\n",
    "dtr_r2"
   ]
  },
  {
   "cell_type": "markdown",
   "id": "cb02f313",
   "metadata": {},
   "source": [
    "#4 Random Forest Regressor"
   ]
  },
  {
   "cell_type": "code",
   "execution_count": 62,
   "id": "adf8944e",
   "metadata": {},
   "outputs": [
    {
     "data": {
      "text/plain": [
       "RandomForestRegressor(random_state=0)"
      ]
     },
     "execution_count": 62,
     "metadata": {},
     "output_type": "execute_result"
    }
   ],
   "source": [
    "#importing model and fitting\n",
    "\n",
    "from sklearn.ensemble import RandomForestRegressor\n",
    "rfr_model = RandomForestRegressor(n_estimators = 100, random_state = 0)\n",
    "rfr_model.fit(X_train,y_train)"
   ]
  },
  {
   "cell_type": "code",
   "execution_count": 63,
   "id": "63580023",
   "metadata": {},
   "outputs": [
    {
     "data": {
      "text/plain": [
       "array([  14.63, -145.11,   -9.14, ...,  -31.95,  -90.84,   -1.8 ])"
      ]
     },
     "execution_count": 63,
     "metadata": {},
     "output_type": "execute_result"
    }
   ],
   "source": [
    "#prediction of X_validation data\n",
    "\n",
    "rfr_predict1 = rfr_model.predict(X_validation)\n",
    "rfr_predict1"
   ]
  },
  {
   "cell_type": "code",
   "execution_count": 64,
   "id": "b63e8403",
   "metadata": {},
   "outputs": [
    {
     "data": {
      "text/plain": [
       "95.74781845164932"
      ]
     },
     "execution_count": 64,
     "metadata": {},
     "output_type": "execute_result"
    }
   ],
   "source": [
    "#mean square error\n",
    "#prediction on X_test data\n",
    "\n",
    "from sklearn.metrics import mean_squared_error as mse\n",
    "mse(y_validation, rfr_predict1, squared=False)"
   ]
  },
  {
   "cell_type": "code",
   "execution_count": 65,
   "id": "921b341f",
   "metadata": {
    "scrolled": true
   },
   "outputs": [
    {
     "data": {
      "text/plain": [
       "113.86811062204086"
      ]
     },
     "execution_count": 65,
     "metadata": {},
     "output_type": "execute_result"
    }
   ],
   "source": [
    "#mean square error\n",
    "\n",
    "rfr_predict2 = rfr_model.predict(X_test)\n",
    "mse(y_test, rfr_predict2, squared=False)"
   ]
  },
  {
   "cell_type": "code",
   "execution_count": 66,
   "id": "47a1f584",
   "metadata": {},
   "outputs": [
    {
     "data": {
      "text/plain": [
       "-0.7874676025861305"
      ]
     },
     "execution_count": 66,
     "metadata": {},
     "output_type": "execute_result"
    }
   ],
   "source": [
    "#r2_score\n",
    "\n",
    "from sklearn.metrics import r2_score\n",
    "rfr_r2 = r2_score(y_test,rfr_predict2)\n",
    "rfr_r2"
   ]
  },
  {
   "cell_type": "markdown",
   "id": "5adbc70e",
   "metadata": {},
   "source": [
    "#5 XGB Regressor"
   ]
  },
  {
   "cell_type": "code",
   "execution_count": 67,
   "id": "e3f6d04a",
   "metadata": {},
   "outputs": [
    {
     "data": {
      "text/plain": [
       "XGBRegressor(base_score=0.5, booster='gbtree', colsample_bylevel=1,\n",
       "             colsample_bynode=1, colsample_bytree=1, gamma=0, gpu_id=-1,\n",
       "             importance_type='gain', interaction_constraints='',\n",
       "             learning_rate=0.300000012, max_delta_step=0, max_depth=7,\n",
       "             min_child_weight=1, missing=nan, monotone_constraints='()',\n",
       "             n_estimators=100, n_jobs=8, num_parallel_tree=1, random_state=0,\n",
       "             reg_alpha=0, reg_lambda=1, scale_pos_weight=1, subsample=1,\n",
       "             tree_method='exact', validate_parameters=1, verbosity=None)"
      ]
     },
     "execution_count": 67,
     "metadata": {},
     "output_type": "execute_result"
    }
   ],
   "source": [
    "#importing model and fitting\n",
    "\n",
    "from xgboost import XGBRegressor\n",
    "xgb_model = XGBRegressor(max_depth = 7)\n",
    "xgb_model.fit(X_train,y_train)"
   ]
  },
  {
   "cell_type": "code",
   "execution_count": 68,
   "id": "d1063488",
   "metadata": {},
   "outputs": [
    {
     "data": {
      "text/plain": [
       "array([ 12.8411045, -87.62819  ,   2.6491716, ..., -34.40841  ,\n",
       "       -63.065746 , -28.194288 ], dtype=float32)"
      ]
     },
     "execution_count": 68,
     "metadata": {},
     "output_type": "execute_result"
    }
   ],
   "source": [
    "#prediction of X_validation data\n",
    "\n",
    "xgb_predict1 = xgb_model.predict(X_validation)\n",
    "xgb_predict1"
   ]
  },
  {
   "cell_type": "code",
   "execution_count": 69,
   "id": "26f78a32",
   "metadata": {},
   "outputs": [
    {
     "data": {
      "text/plain": [
       "105.06778"
      ]
     },
     "execution_count": 69,
     "metadata": {},
     "output_type": "execute_result"
    }
   ],
   "source": [
    "#mean square error\n",
    "#prediction on X_test data\n",
    "\n",
    "from sklearn.metrics import mean_squared_error as mse\n",
    "mse(y_validation, xgb_predict1, squared=False)"
   ]
  },
  {
   "cell_type": "code",
   "execution_count": 70,
   "id": "ca9c6b08",
   "metadata": {},
   "outputs": [
    {
     "data": {
      "text/plain": [
       "99.35168"
      ]
     },
     "execution_count": 70,
     "metadata": {},
     "output_type": "execute_result"
    }
   ],
   "source": [
    "#mean square error\n",
    "\n",
    "xgb_predict2 = xgb_model.predict(X_test)\n",
    "mse(y_test, xgb_predict2, squared=False)"
   ]
  },
  {
   "cell_type": "code",
   "execution_count": 71,
   "id": "d61521f3",
   "metadata": {
    "scrolled": true
   },
   "outputs": [
    {
     "data": {
      "text/plain": [
       "-0.3607688304388772"
      ]
     },
     "execution_count": 71,
     "metadata": {},
     "output_type": "execute_result"
    }
   ],
   "source": [
    "#r2_score\n",
    "\n",
    "from sklearn.metrics import r2_score\n",
    "xgb_r2 = r2_score(y_test,xgb_predict2)\n",
    "xgb_r2"
   ]
  },
  {
   "cell_type": "markdown",
   "id": "5267c2c8",
   "metadata": {},
   "source": [
    "#Model comparision"
   ]
  },
  {
   "cell_type": "code",
   "execution_count": 72,
   "id": "42991a49",
   "metadata": {},
   "outputs": [],
   "source": [
    "ALGO = ['Linear Regression','SVR','Decision Tree Regression','Random Forest Regressor','XGB Regresson']\n",
    "mse = [mse(y_test,lr_predict2,squared = False),mse(y_test, svr_predict2, squared=False),mse(y_test, dtr_predict2, squared=False),mse(y_test, rfr_predict2, squared=False),mse(y_test, xgb_predict2, squared=False)]\n",
    "r2_score = [lr_r2,svr_r2,dtr_r2,rfr_r2,xgb_r2]"
   ]
  },
  {
   "cell_type": "code",
   "execution_count": 73,
   "id": "89fd50bc",
   "metadata": {
    "scrolled": true
   },
   "outputs": [
    {
     "data": {
      "text/html": [
       "<div>\n",
       "<style scoped>\n",
       "    .dataframe tbody tr th:only-of-type {\n",
       "        vertical-align: middle;\n",
       "    }\n",
       "\n",
       "    .dataframe tbody tr th {\n",
       "        vertical-align: top;\n",
       "    }\n",
       "\n",
       "    .dataframe thead th {\n",
       "        text-align: right;\n",
       "    }\n",
       "</style>\n",
       "<table border=\"1\" class=\"dataframe\">\n",
       "  <thead>\n",
       "    <tr style=\"text-align: right;\">\n",
       "      <th></th>\n",
       "      <th>ALGORITHM</th>\n",
       "      <th>mse</th>\n",
       "      <th>r2_score</th>\n",
       "    </tr>\n",
       "  </thead>\n",
       "  <tbody>\n",
       "    <tr>\n",
       "      <th>0</th>\n",
       "      <td>Linear Regression</td>\n",
       "      <td>223.708401</td>\n",
       "      <td>-5.899197</td>\n",
       "    </tr>\n",
       "    <tr>\n",
       "      <th>1</th>\n",
       "      <td>SVR</td>\n",
       "      <td>94.249402</td>\n",
       "      <td>-0.224591</td>\n",
       "    </tr>\n",
       "    <tr>\n",
       "      <th>2</th>\n",
       "      <td>Decision Tree Regression</td>\n",
       "      <td>110.687157</td>\n",
       "      <td>-0.688995</td>\n",
       "    </tr>\n",
       "    <tr>\n",
       "      <th>3</th>\n",
       "      <td>Random Forest Regressor</td>\n",
       "      <td>113.868111</td>\n",
       "      <td>-0.787468</td>\n",
       "    </tr>\n",
       "    <tr>\n",
       "      <th>4</th>\n",
       "      <td>XGB Regresson</td>\n",
       "      <td>99.351677</td>\n",
       "      <td>-0.360769</td>\n",
       "    </tr>\n",
       "  </tbody>\n",
       "</table>\n",
       "</div>"
      ],
      "text/plain": [
       "                  ALGORITHM         mse  r2_score\n",
       "0         Linear Regression  223.708401 -5.899197\n",
       "1                       SVR   94.249402 -0.224591\n",
       "2  Decision Tree Regression  110.687157 -0.688995\n",
       "3   Random Forest Regressor  113.868111 -0.787468\n",
       "4             XGB Regresson   99.351677 -0.360769"
      ]
     },
     "execution_count": 73,
     "metadata": {},
     "output_type": "execute_result"
    }
   ],
   "source": [
    "model = pd.DataFrame(list(zip(ALGO,mse,r2_score)))\n",
    "Frame=pd.DataFrame(model.values, columns = [\"ALGORITHM\", \"mse\", \"r2_score\"])\n",
    "Frame"
   ]
  },
  {
   "cell_type": "markdown",
   "id": "d9c7b754",
   "metadata": {},
   "source": [
    "# 8) Processing Before Prediction"
   ]
  },
  {
   "cell_type": "code",
   "execution_count": 74,
   "id": "fffc684a",
   "metadata": {
    "scrolled": true
   },
   "outputs": [
    {
     "name": "stdout",
     "output_type": "stream",
     "text": [
      "<class 'pandas.core.frame.DataFrame'>\n",
      "Int64Index: 28000 entries, 0 to 27999\n",
      "Data columns (total 8 columns):\n",
      " #   Column                Non-Null Count  Dtype  \n",
      "---  ------                --------------  -----  \n",
      " 0   document_create_date  28000 non-null  int64  \n",
      " 1   baseline_create_date  28000 non-null  int64  \n",
      " 2   invoice_id            28000 non-null  float64\n",
      " 3   actual_open_amount    28000 non-null  float64\n",
      " 4   business_code_en      28000 non-null  int32  \n",
      " 5   month                 28000 non-null  int64  \n",
      " 6   day                   28000 non-null  int64  \n",
      " 7   week_day              28000 non-null  int64  \n",
      "dtypes: float64(2), int32(1), int64(5)\n",
      "memory usage: 1.8 MB\n"
     ]
    }
   ],
   "source": [
    "X_train.info()"
   ]
  },
  {
   "cell_type": "code",
   "execution_count": 75,
   "id": "5fcf4a54",
   "metadata": {
    "scrolled": true
   },
   "outputs": [
    {
     "name": "stdout",
     "output_type": "stream",
     "text": [
      "<class 'pandas.core.frame.DataFrame'>\n",
      "Int64Index: 10000 entries, 0 to 49997\n",
      "Data columns (total 17 columns):\n",
      " #   Column                  Non-Null Count  Dtype  \n",
      "---  ------                  --------------  -----  \n",
      " 0   business_code           10000 non-null  object \n",
      " 1   cust_number             10000 non-null  object \n",
      " 2   name_customer           10000 non-null  object \n",
      " 3   clear_date              0 non-null      object \n",
      " 4   buisness_year           10000 non-null  int64  \n",
      " 5   doc_id                  10000 non-null  int64  \n",
      " 6   posting_date            10000 non-null  object \n",
      " 7   document_create_date    10000 non-null  int64  \n",
      " 8   document_create_date.1  10000 non-null  int64  \n",
      " 9   due_in_date             10000 non-null  int64  \n",
      " 10  invoice_currency        10000 non-null  object \n",
      " 11  document type           10000 non-null  object \n",
      " 12  total_open_amount       10000 non-null  float64\n",
      " 13  baseline_create_date    10000 non-null  int64  \n",
      " 14  cust_payment_terms      10000 non-null  object \n",
      " 15  invoice_id              10000 non-null  float64\n",
      " 16  isOpen                  10000 non-null  int64  \n",
      "dtypes: float64(2), int64(7), object(8)\n",
      "memory usage: 1.4+ MB\n"
     ]
    }
   ],
   "source": [
    "df1.info()"
   ]
  },
  {
   "cell_type": "code",
   "execution_count": 76,
   "id": "3cbddcb9",
   "metadata": {},
   "outputs": [],
   "source": [
    "#dropping clear_date since it is to be predicted\n",
    "\n",
    "df1.drop(['clear_date'],axis=1,inplace = True)"
   ]
  },
  {
   "cell_type": "code",
   "execution_count": 77,
   "id": "9f650362",
   "metadata": {},
   "outputs": [],
   "source": [
    "#dropping unnecessary columns which are not in X_train\n",
    "\n",
    "df1.drop(['name_customer','cust_number','buisness_year','doc_id','document_create_date.1','document type',\n",
    "         'cust_payment_terms','isOpen'],axis=1,inplace=True)"
   ]
  },
  {
   "cell_type": "code",
   "execution_count": 78,
   "id": "ac8ee354",
   "metadata": {},
   "outputs": [],
   "source": [
    "#Changing currency and amount as on X_train\n",
    "\n",
    "df1['actual_open_amount'] = df1['total_open_amount'].where(df1['invoice_currency']=='USD', df1['total_open_amount'] * 0.8)"
   ]
  },
  {
   "cell_type": "code",
   "execution_count": 79,
   "id": "9a23c632",
   "metadata": {},
   "outputs": [],
   "source": [
    "#dropping invoice_currency and total_open_amount since it has no further usage\n",
    "\n",
    "df1.drop(['invoice_currency','total_open_amount'],axis =1,inplace = True)"
   ]
  },
  {
   "cell_type": "code",
   "execution_count": 80,
   "id": "88caefb3",
   "metadata": {},
   "outputs": [],
   "source": [
    "#making month,day and week_day column as on X_train\n",
    "\n",
    "df1['month'] = pd.to_datetime(df1['posting_date']).dt.month\n",
    "df1['day'] = pd.to_datetime(df1['posting_date']).dt.day\n",
    "df1['week_day'] = pd.to_datetime(df1['posting_date']).dt.weekday"
   ]
  },
  {
   "cell_type": "code",
   "execution_count": 81,
   "id": "70828a4d",
   "metadata": {},
   "outputs": [],
   "source": [
    "#dropping posting_date since it has no further usage\n",
    "\n",
    "df1.drop(['posting_date'],axis=1,inplace=True)"
   ]
  },
  {
   "cell_type": "code",
   "execution_count": 82,
   "id": "3ba90d4a",
   "metadata": {},
   "outputs": [],
   "source": [
    "#keeping due_in_date in new dataframe df_temp for calculating prediction date later\n",
    "\n",
    "df1['due_in_date']=pd.to_datetime(df1['due_in_date'],format='%Y%m%d')\n",
    "df_temp = pd.DataFrame(df1['due_in_date'])"
   ]
  },
  {
   "cell_type": "code",
   "execution_count": 83,
   "id": "d1b2ed49",
   "metadata": {},
   "outputs": [],
   "source": [
    "#dropping due_in_date since it has no further usage\n",
    "\n",
    "df1.drop(['due_in_date'],axis=1,inplace=True)"
   ]
  },
  {
   "cell_type": "code",
   "execution_count": 84,
   "id": "650d72ce",
   "metadata": {},
   "outputs": [],
   "source": [
    "#labelEcncoding business_code\n",
    "\n",
    "from sklearn.preprocessing import LabelEncoder\n",
    "le = LabelEncoder()\n",
    "le.fit(df1['business_code'])\n",
    "df1['business_code_en'] = le.transform(df1['business_code'])"
   ]
  },
  {
   "cell_type": "code",
   "execution_count": 85,
   "id": "6ab96862",
   "metadata": {},
   "outputs": [],
   "source": [
    "#dropping business_code since it has no further usage\n",
    "\n",
    "df1.drop(['business_code'],axis=1,inplace=True)"
   ]
  },
  {
   "cell_type": "code",
   "execution_count": 86,
   "id": "741fbce8",
   "metadata": {},
   "outputs": [
    {
     "data": {
      "text/html": [
       "<div>\n",
       "<style scoped>\n",
       "    .dataframe tbody tr th:only-of-type {\n",
       "        vertical-align: middle;\n",
       "    }\n",
       "\n",
       "    .dataframe tbody tr th {\n",
       "        vertical-align: top;\n",
       "    }\n",
       "\n",
       "    .dataframe thead th {\n",
       "        text-align: right;\n",
       "    }\n",
       "</style>\n",
       "<table border=\"1\" class=\"dataframe\">\n",
       "  <thead>\n",
       "    <tr style=\"text-align: right;\">\n",
       "      <th></th>\n",
       "      <th>document_create_date</th>\n",
       "      <th>baseline_create_date</th>\n",
       "      <th>invoice_id</th>\n",
       "      <th>actual_open_amount</th>\n",
       "      <th>month</th>\n",
       "      <th>day</th>\n",
       "      <th>week_day</th>\n",
       "      <th>business_code_en</th>\n",
       "    </tr>\n",
       "  </thead>\n",
       "  <tbody>\n",
       "    <tr>\n",
       "      <th>0</th>\n",
       "      <td>20200318</td>\n",
       "      <td>20200319</td>\n",
       "      <td>1.930670e+09</td>\n",
       "      <td>5258.71</td>\n",
       "      <td>3</td>\n",
       "      <td>19</td>\n",
       "      <td>3</td>\n",
       "      <td>1</td>\n",
       "    </tr>\n",
       "    <tr>\n",
       "      <th>1</th>\n",
       "      <td>20200326</td>\n",
       "      <td>20200326</td>\n",
       "      <td>1.930709e+09</td>\n",
       "      <td>76336.64</td>\n",
       "      <td>3</td>\n",
       "      <td>26</td>\n",
       "      <td>3</td>\n",
       "      <td>1</td>\n",
       "    </tr>\n",
       "    <tr>\n",
       "      <th>2</th>\n",
       "      <td>20200506</td>\n",
       "      <td>20200501</td>\n",
       "      <td>1.930861e+09</td>\n",
       "      <td>12488.63</td>\n",
       "      <td>6</td>\n",
       "      <td>5</td>\n",
       "      <td>4</td>\n",
       "      <td>1</td>\n",
       "    </tr>\n",
       "    <tr>\n",
       "      <th>11</th>\n",
       "      <td>20200312</td>\n",
       "      <td>20200313</td>\n",
       "      <td>1.930642e+09</td>\n",
       "      <td>6272.49</td>\n",
       "      <td>3</td>\n",
       "      <td>13</td>\n",
       "      <td>4</td>\n",
       "      <td>1</td>\n",
       "    </tr>\n",
       "    <tr>\n",
       "      <th>22</th>\n",
       "      <td>20200305</td>\n",
       "      <td>20200305</td>\n",
       "      <td>1.930606e+09</td>\n",
       "      <td>120013.93</td>\n",
       "      <td>5</td>\n",
       "      <td>3</td>\n",
       "      <td>6</td>\n",
       "      <td>1</td>\n",
       "    </tr>\n",
       "    <tr>\n",
       "      <th>...</th>\n",
       "      <td>...</td>\n",
       "      <td>...</td>\n",
       "      <td>...</td>\n",
       "      <td>...</td>\n",
       "      <td>...</td>\n",
       "      <td>...</td>\n",
       "      <td>...</td>\n",
       "      <td>...</td>\n",
       "    </tr>\n",
       "    <tr>\n",
       "      <th>49985</th>\n",
       "      <td>20200414</td>\n",
       "      <td>20200413</td>\n",
       "      <td>1.930783e+09</td>\n",
       "      <td>30073.00</td>\n",
       "      <td>4</td>\n",
       "      <td>13</td>\n",
       "      <td>0</td>\n",
       "      <td>1</td>\n",
       "    </tr>\n",
       "    <tr>\n",
       "      <th>49987</th>\n",
       "      <td>20200404</td>\n",
       "      <td>20200405</td>\n",
       "      <td>1.930747e+09</td>\n",
       "      <td>79.84</td>\n",
       "      <td>5</td>\n",
       "      <td>4</td>\n",
       "      <td>0</td>\n",
       "      <td>1</td>\n",
       "    </tr>\n",
       "    <tr>\n",
       "      <th>49990</th>\n",
       "      <td>20200403</td>\n",
       "      <td>20200402</td>\n",
       "      <td>1.930739e+09</td>\n",
       "      <td>22930.40</td>\n",
       "      <td>2</td>\n",
       "      <td>4</td>\n",
       "      <td>1</td>\n",
       "      <td>1</td>\n",
       "    </tr>\n",
       "    <tr>\n",
       "      <th>49992</th>\n",
       "      <td>20200407</td>\n",
       "      <td>20200408</td>\n",
       "      <td>1.930758e+09</td>\n",
       "      <td>13873.46</td>\n",
       "      <td>8</td>\n",
       "      <td>4</td>\n",
       "      <td>1</td>\n",
       "      <td>1</td>\n",
       "    </tr>\n",
       "    <tr>\n",
       "      <th>49997</th>\n",
       "      <td>20200425</td>\n",
       "      <td>20200425</td>\n",
       "      <td>1.930827e+09</td>\n",
       "      <td>37667.65</td>\n",
       "      <td>4</td>\n",
       "      <td>25</td>\n",
       "      <td>5</td>\n",
       "      <td>1</td>\n",
       "    </tr>\n",
       "  </tbody>\n",
       "</table>\n",
       "<p>10000 rows × 8 columns</p>\n",
       "</div>"
      ],
      "text/plain": [
       "       document_create_date  baseline_create_date    invoice_id  \\\n",
       "0                  20200318              20200319  1.930670e+09   \n",
       "1                  20200326              20200326  1.930709e+09   \n",
       "2                  20200506              20200501  1.930861e+09   \n",
       "11                 20200312              20200313  1.930642e+09   \n",
       "22                 20200305              20200305  1.930606e+09   \n",
       "...                     ...                   ...           ...   \n",
       "49985              20200414              20200413  1.930783e+09   \n",
       "49987              20200404              20200405  1.930747e+09   \n",
       "49990              20200403              20200402  1.930739e+09   \n",
       "49992              20200407              20200408  1.930758e+09   \n",
       "49997              20200425              20200425  1.930827e+09   \n",
       "\n",
       "       actual_open_amount  month  day  week_day  business_code_en  \n",
       "0                 5258.71      3   19         3                 1  \n",
       "1                76336.64      3   26         3                 1  \n",
       "2                12488.63      6    5         4                 1  \n",
       "11                6272.49      3   13         4                 1  \n",
       "22              120013.93      5    3         6                 1  \n",
       "...                   ...    ...  ...       ...               ...  \n",
       "49985            30073.00      4   13         0                 1  \n",
       "49987               79.84      5    4         0                 1  \n",
       "49990            22930.40      2    4         1                 1  \n",
       "49992            13873.46      8    4         1                 1  \n",
       "49997            37667.65      4   25         5                 1  \n",
       "\n",
       "[10000 rows x 8 columns]"
      ]
     },
     "execution_count": 86,
     "metadata": {},
     "output_type": "execute_result"
    }
   ],
   "source": [
    "df1"
   ]
  },
  {
   "cell_type": "markdown",
   "id": "4d69be0a",
   "metadata": {},
   "source": [
    "# 10) Prediction"
   ]
  },
  {
   "cell_type": "code",
   "execution_count": 87,
   "id": "a67abace",
   "metadata": {},
   "outputs": [],
   "source": [
    "#predicting model on XGB\n",
    "\n",
    "prediction_result = xgb_model.predict(df1)"
   ]
  },
  {
   "cell_type": "code",
   "execution_count": 88,
   "id": "c3b69bbb",
   "metadata": {},
   "outputs": [],
   "source": [
    "prediction_result = pd.Series(prediction_result,name='delay_days')"
   ]
  },
  {
   "cell_type": "code",
   "execution_count": 89,
   "id": "651c3bc1",
   "metadata": {},
   "outputs": [],
   "source": [
    "#merging prediction result on final test data(df1)\n",
    "\n",
    "df1 = df1.merge(prediction_result, on=df1.index)"
   ]
  },
  {
   "cell_type": "code",
   "execution_count": 90,
   "id": "5a59aafb",
   "metadata": {},
   "outputs": [
    {
     "data": {
      "text/html": [
       "<div>\n",
       "<style scoped>\n",
       "    .dataframe tbody tr th:only-of-type {\n",
       "        vertical-align: middle;\n",
       "    }\n",
       "\n",
       "    .dataframe tbody tr th {\n",
       "        vertical-align: top;\n",
       "    }\n",
       "\n",
       "    .dataframe thead th {\n",
       "        text-align: right;\n",
       "    }\n",
       "</style>\n",
       "<table border=\"1\" class=\"dataframe\">\n",
       "  <thead>\n",
       "    <tr style=\"text-align: right;\">\n",
       "      <th></th>\n",
       "      <th>key_0</th>\n",
       "      <th>document_create_date</th>\n",
       "      <th>baseline_create_date</th>\n",
       "      <th>invoice_id</th>\n",
       "      <th>actual_open_amount</th>\n",
       "      <th>month</th>\n",
       "      <th>day</th>\n",
       "      <th>week_day</th>\n",
       "      <th>business_code_en</th>\n",
       "      <th>delay_days</th>\n",
       "    </tr>\n",
       "  </thead>\n",
       "  <tbody>\n",
       "    <tr>\n",
       "      <th>0</th>\n",
       "      <td>0</td>\n",
       "      <td>20200318</td>\n",
       "      <td>20200319</td>\n",
       "      <td>1.930670e+09</td>\n",
       "      <td>5258.71</td>\n",
       "      <td>3</td>\n",
       "      <td>19</td>\n",
       "      <td>3</td>\n",
       "      <td>1</td>\n",
       "      <td>-32.163250</td>\n",
       "    </tr>\n",
       "    <tr>\n",
       "      <th>1</th>\n",
       "      <td>1</td>\n",
       "      <td>20200326</td>\n",
       "      <td>20200326</td>\n",
       "      <td>1.930709e+09</td>\n",
       "      <td>76336.64</td>\n",
       "      <td>3</td>\n",
       "      <td>26</td>\n",
       "      <td>3</td>\n",
       "      <td>1</td>\n",
       "      <td>11.861892</td>\n",
       "    </tr>\n",
       "    <tr>\n",
       "      <th>2</th>\n",
       "      <td>2</td>\n",
       "      <td>20200506</td>\n",
       "      <td>20200501</td>\n",
       "      <td>1.930861e+09</td>\n",
       "      <td>12488.63</td>\n",
       "      <td>6</td>\n",
       "      <td>5</td>\n",
       "      <td>4</td>\n",
       "      <td>1</td>\n",
       "      <td>-59.330139</td>\n",
       "    </tr>\n",
       "    <tr>\n",
       "      <th>3</th>\n",
       "      <td>11</td>\n",
       "      <td>20200312</td>\n",
       "      <td>20200313</td>\n",
       "      <td>1.930642e+09</td>\n",
       "      <td>6272.49</td>\n",
       "      <td>3</td>\n",
       "      <td>13</td>\n",
       "      <td>4</td>\n",
       "      <td>1</td>\n",
       "      <td>-27.888649</td>\n",
       "    </tr>\n",
       "    <tr>\n",
       "      <th>4</th>\n",
       "      <td>22</td>\n",
       "      <td>20200305</td>\n",
       "      <td>20200305</td>\n",
       "      <td>1.930606e+09</td>\n",
       "      <td>120013.93</td>\n",
       "      <td>5</td>\n",
       "      <td>3</td>\n",
       "      <td>6</td>\n",
       "      <td>1</td>\n",
       "      <td>11.236579</td>\n",
       "    </tr>\n",
       "    <tr>\n",
       "      <th>...</th>\n",
       "      <td>...</td>\n",
       "      <td>...</td>\n",
       "      <td>...</td>\n",
       "      <td>...</td>\n",
       "      <td>...</td>\n",
       "      <td>...</td>\n",
       "      <td>...</td>\n",
       "      <td>...</td>\n",
       "      <td>...</td>\n",
       "      <td>...</td>\n",
       "    </tr>\n",
       "    <tr>\n",
       "      <th>9995</th>\n",
       "      <td>49985</td>\n",
       "      <td>20200414</td>\n",
       "      <td>20200413</td>\n",
       "      <td>1.930783e+09</td>\n",
       "      <td>30073.00</td>\n",
       "      <td>4</td>\n",
       "      <td>13</td>\n",
       "      <td>0</td>\n",
       "      <td>1</td>\n",
       "      <td>12.283953</td>\n",
       "    </tr>\n",
       "    <tr>\n",
       "      <th>9996</th>\n",
       "      <td>49987</td>\n",
       "      <td>20200404</td>\n",
       "      <td>20200405</td>\n",
       "      <td>1.930747e+09</td>\n",
       "      <td>79.84</td>\n",
       "      <td>5</td>\n",
       "      <td>4</td>\n",
       "      <td>0</td>\n",
       "      <td>1</td>\n",
       "      <td>-29.738729</td>\n",
       "    </tr>\n",
       "    <tr>\n",
       "      <th>9997</th>\n",
       "      <td>49990</td>\n",
       "      <td>20200403</td>\n",
       "      <td>20200402</td>\n",
       "      <td>1.930739e+09</td>\n",
       "      <td>22930.40</td>\n",
       "      <td>2</td>\n",
       "      <td>4</td>\n",
       "      <td>1</td>\n",
       "      <td>1</td>\n",
       "      <td>-16.681688</td>\n",
       "    </tr>\n",
       "    <tr>\n",
       "      <th>9998</th>\n",
       "      <td>49992</td>\n",
       "      <td>20200407</td>\n",
       "      <td>20200408</td>\n",
       "      <td>1.930758e+09</td>\n",
       "      <td>13873.46</td>\n",
       "      <td>8</td>\n",
       "      <td>4</td>\n",
       "      <td>1</td>\n",
       "      <td>1</td>\n",
       "      <td>-21.695953</td>\n",
       "    </tr>\n",
       "    <tr>\n",
       "      <th>9999</th>\n",
       "      <td>49997</td>\n",
       "      <td>20200425</td>\n",
       "      <td>20200425</td>\n",
       "      <td>1.930827e+09</td>\n",
       "      <td>37667.65</td>\n",
       "      <td>4</td>\n",
       "      <td>25</td>\n",
       "      <td>5</td>\n",
       "      <td>1</td>\n",
       "      <td>14.296293</td>\n",
       "    </tr>\n",
       "  </tbody>\n",
       "</table>\n",
       "<p>10000 rows × 10 columns</p>\n",
       "</div>"
      ],
      "text/plain": [
       "      key_0  document_create_date  baseline_create_date    invoice_id  \\\n",
       "0         0              20200318              20200319  1.930670e+09   \n",
       "1         1              20200326              20200326  1.930709e+09   \n",
       "2         2              20200506              20200501  1.930861e+09   \n",
       "3        11              20200312              20200313  1.930642e+09   \n",
       "4        22              20200305              20200305  1.930606e+09   \n",
       "...     ...                   ...                   ...           ...   \n",
       "9995  49985              20200414              20200413  1.930783e+09   \n",
       "9996  49987              20200404              20200405  1.930747e+09   \n",
       "9997  49990              20200403              20200402  1.930739e+09   \n",
       "9998  49992              20200407              20200408  1.930758e+09   \n",
       "9999  49997              20200425              20200425  1.930827e+09   \n",
       "\n",
       "      actual_open_amount  month  day  week_day  business_code_en  delay_days  \n",
       "0                5258.71      3   19         3                 1  -32.163250  \n",
       "1               76336.64      3   26         3                 1   11.861892  \n",
       "2               12488.63      6    5         4                 1  -59.330139  \n",
       "3                6272.49      3   13         4                 1  -27.888649  \n",
       "4              120013.93      5    3         6                 1   11.236579  \n",
       "...                  ...    ...  ...       ...               ...         ...  \n",
       "9995            30073.00      4   13         0                 1   12.283953  \n",
       "9996               79.84      5    4         0                 1  -29.738729  \n",
       "9997            22930.40      2    4         1                 1  -16.681688  \n",
       "9998            13873.46      8    4         1                 1  -21.695953  \n",
       "9999            37667.65      4   25         5                 1   14.296293  \n",
       "\n",
       "[10000 rows x 10 columns]"
      ]
     },
     "execution_count": 90,
     "metadata": {},
     "output_type": "execute_result"
    }
   ],
   "source": [
    "df1"
   ]
  },
  {
   "cell_type": "code",
   "execution_count": 91,
   "id": "a1092fce",
   "metadata": {},
   "outputs": [],
   "source": [
    "#Concatinating final test data(df1) and due date (due_in_date) for\n",
    "\n",
    "result = pd.concat([df1,df_temp],axis=1,join = 'inner')"
   ]
  },
  {
   "cell_type": "code",
   "execution_count": 92,
   "id": "abec6024",
   "metadata": {},
   "outputs": [
    {
     "data": {
      "text/html": [
       "<div>\n",
       "<style scoped>\n",
       "    .dataframe tbody tr th:only-of-type {\n",
       "        vertical-align: middle;\n",
       "    }\n",
       "\n",
       "    .dataframe tbody tr th {\n",
       "        vertical-align: top;\n",
       "    }\n",
       "\n",
       "    .dataframe thead th {\n",
       "        text-align: right;\n",
       "    }\n",
       "</style>\n",
       "<table border=\"1\" class=\"dataframe\">\n",
       "  <thead>\n",
       "    <tr style=\"text-align: right;\">\n",
       "      <th></th>\n",
       "      <th>key_0</th>\n",
       "      <th>document_create_date</th>\n",
       "      <th>baseline_create_date</th>\n",
       "      <th>invoice_id</th>\n",
       "      <th>actual_open_amount</th>\n",
       "      <th>month</th>\n",
       "      <th>day</th>\n",
       "      <th>week_day</th>\n",
       "      <th>business_code_en</th>\n",
       "      <th>delay_days</th>\n",
       "      <th>due_in_date</th>\n",
       "    </tr>\n",
       "  </thead>\n",
       "  <tbody>\n",
       "    <tr>\n",
       "      <th>0</th>\n",
       "      <td>0</td>\n",
       "      <td>20200318</td>\n",
       "      <td>20200319</td>\n",
       "      <td>1.930670e+09</td>\n",
       "      <td>5258.71</td>\n",
       "      <td>3</td>\n",
       "      <td>19</td>\n",
       "      <td>3</td>\n",
       "      <td>1</td>\n",
       "      <td>-32.163250</td>\n",
       "      <td>2020-05-23</td>\n",
       "    </tr>\n",
       "    <tr>\n",
       "      <th>1</th>\n",
       "      <td>1</td>\n",
       "      <td>20200326</td>\n",
       "      <td>20200326</td>\n",
       "      <td>1.930709e+09</td>\n",
       "      <td>76336.64</td>\n",
       "      <td>3</td>\n",
       "      <td>26</td>\n",
       "      <td>3</td>\n",
       "      <td>1</td>\n",
       "      <td>11.861892</td>\n",
       "      <td>2020-04-10</td>\n",
       "    </tr>\n",
       "    <tr>\n",
       "      <th>2</th>\n",
       "      <td>2</td>\n",
       "      <td>20200506</td>\n",
       "      <td>20200501</td>\n",
       "      <td>1.930861e+09</td>\n",
       "      <td>12488.63</td>\n",
       "      <td>6</td>\n",
       "      <td>5</td>\n",
       "      <td>4</td>\n",
       "      <td>1</td>\n",
       "      <td>-59.330139</td>\n",
       "      <td>2020-05-11</td>\n",
       "    </tr>\n",
       "    <tr>\n",
       "      <th>11</th>\n",
       "      <td>55</td>\n",
       "      <td>20200422</td>\n",
       "      <td>20200422</td>\n",
       "      <td>1.930814e+09</td>\n",
       "      <td>39355.64</td>\n",
       "      <td>4</td>\n",
       "      <td>22</td>\n",
       "      <td>2</td>\n",
       "      <td>1</td>\n",
       "      <td>15.186136</td>\n",
       "      <td>2020-05-17</td>\n",
       "    </tr>\n",
       "    <tr>\n",
       "      <th>22</th>\n",
       "      <td>89</td>\n",
       "      <td>20200315</td>\n",
       "      <td>20200315</td>\n",
       "      <td>1.930654e+09</td>\n",
       "      <td>129113.69</td>\n",
       "      <td>3</td>\n",
       "      <td>15</td>\n",
       "      <td>6</td>\n",
       "      <td>1</td>\n",
       "      <td>36.811802</td>\n",
       "      <td>2020-03-20</td>\n",
       "    </tr>\n",
       "  </tbody>\n",
       "</table>\n",
       "</div>"
      ],
      "text/plain": [
       "    key_0  document_create_date  baseline_create_date    invoice_id  \\\n",
       "0       0              20200318              20200319  1.930670e+09   \n",
       "1       1              20200326              20200326  1.930709e+09   \n",
       "2       2              20200506              20200501  1.930861e+09   \n",
       "11     55              20200422              20200422  1.930814e+09   \n",
       "22     89              20200315              20200315  1.930654e+09   \n",
       "\n",
       "    actual_open_amount  month  day  week_day  business_code_en  delay_days  \\\n",
       "0              5258.71      3   19         3                 1  -32.163250   \n",
       "1             76336.64      3   26         3                 1   11.861892   \n",
       "2             12488.63      6    5         4                 1  -59.330139   \n",
       "11            39355.64      4   22         2                 1   15.186136   \n",
       "22           129113.69      3   15         6                 1   36.811802   \n",
       "\n",
       "   due_in_date  \n",
       "0   2020-05-23  \n",
       "1   2020-04-10  \n",
       "2   2020-05-11  \n",
       "11  2020-05-17  \n",
       "22  2020-03-20  "
      ]
     },
     "execution_count": 92,
     "metadata": {},
     "output_type": "execute_result"
    }
   ],
   "source": [
    "result.head()"
   ]
  },
  {
   "cell_type": "code",
   "execution_count": 93,
   "id": "d36f1812",
   "metadata": {},
   "outputs": [
    {
     "data": {
      "text/html": [
       "<div>\n",
       "<style scoped>\n",
       "    .dataframe tbody tr th:only-of-type {\n",
       "        vertical-align: middle;\n",
       "    }\n",
       "\n",
       "    .dataframe tbody tr th {\n",
       "        vertical-align: top;\n",
       "    }\n",
       "\n",
       "    .dataframe thead th {\n",
       "        text-align: right;\n",
       "    }\n",
       "</style>\n",
       "<table border=\"1\" class=\"dataframe\">\n",
       "  <thead>\n",
       "    <tr style=\"text-align: right;\">\n",
       "      <th></th>\n",
       "      <th>key_0</th>\n",
       "      <th>document_create_date</th>\n",
       "      <th>baseline_create_date</th>\n",
       "      <th>invoice_id</th>\n",
       "      <th>actual_open_amount</th>\n",
       "      <th>month</th>\n",
       "      <th>day</th>\n",
       "      <th>week_day</th>\n",
       "      <th>business_code_en</th>\n",
       "      <th>delay_days</th>\n",
       "      <th>due_in_date</th>\n",
       "      <th>payment_date</th>\n",
       "    </tr>\n",
       "  </thead>\n",
       "  <tbody>\n",
       "    <tr>\n",
       "      <th>0</th>\n",
       "      <td>0</td>\n",
       "      <td>20200318</td>\n",
       "      <td>20200319</td>\n",
       "      <td>1.930670e+09</td>\n",
       "      <td>5258.71</td>\n",
       "      <td>3</td>\n",
       "      <td>19</td>\n",
       "      <td>3</td>\n",
       "      <td>1</td>\n",
       "      <td>-32.163250</td>\n",
       "      <td>2020-05-23</td>\n",
       "      <td>2020-04-21</td>\n",
       "    </tr>\n",
       "    <tr>\n",
       "      <th>1</th>\n",
       "      <td>1</td>\n",
       "      <td>20200326</td>\n",
       "      <td>20200326</td>\n",
       "      <td>1.930709e+09</td>\n",
       "      <td>76336.64</td>\n",
       "      <td>3</td>\n",
       "      <td>26</td>\n",
       "      <td>3</td>\n",
       "      <td>1</td>\n",
       "      <td>11.861892</td>\n",
       "      <td>2020-04-10</td>\n",
       "      <td>2020-04-22</td>\n",
       "    </tr>\n",
       "    <tr>\n",
       "      <th>2</th>\n",
       "      <td>2</td>\n",
       "      <td>20200506</td>\n",
       "      <td>20200501</td>\n",
       "      <td>1.930861e+09</td>\n",
       "      <td>12488.63</td>\n",
       "      <td>6</td>\n",
       "      <td>5</td>\n",
       "      <td>4</td>\n",
       "      <td>1</td>\n",
       "      <td>-59.330139</td>\n",
       "      <td>2020-05-11</td>\n",
       "      <td>2020-03-13</td>\n",
       "    </tr>\n",
       "    <tr>\n",
       "      <th>11</th>\n",
       "      <td>55</td>\n",
       "      <td>20200422</td>\n",
       "      <td>20200422</td>\n",
       "      <td>1.930814e+09</td>\n",
       "      <td>39355.64</td>\n",
       "      <td>4</td>\n",
       "      <td>22</td>\n",
       "      <td>2</td>\n",
       "      <td>1</td>\n",
       "      <td>15.186136</td>\n",
       "      <td>2020-05-17</td>\n",
       "      <td>2020-06-02</td>\n",
       "    </tr>\n",
       "    <tr>\n",
       "      <th>22</th>\n",
       "      <td>89</td>\n",
       "      <td>20200315</td>\n",
       "      <td>20200315</td>\n",
       "      <td>1.930654e+09</td>\n",
       "      <td>129113.69</td>\n",
       "      <td>3</td>\n",
       "      <td>15</td>\n",
       "      <td>6</td>\n",
       "      <td>1</td>\n",
       "      <td>36.811802</td>\n",
       "      <td>2020-03-20</td>\n",
       "      <td>2020-04-26</td>\n",
       "    </tr>\n",
       "  </tbody>\n",
       "</table>\n",
       "</div>"
      ],
      "text/plain": [
       "    key_0  document_create_date  baseline_create_date    invoice_id  \\\n",
       "0       0              20200318              20200319  1.930670e+09   \n",
       "1       1              20200326              20200326  1.930709e+09   \n",
       "2       2              20200506              20200501  1.930861e+09   \n",
       "11     55              20200422              20200422  1.930814e+09   \n",
       "22     89              20200315              20200315  1.930654e+09   \n",
       "\n",
       "    actual_open_amount  month  day  week_day  business_code_en  delay_days  \\\n",
       "0              5258.71      3   19         3                 1  -32.163250   \n",
       "1             76336.64      3   26         3                 1   11.861892   \n",
       "2             12488.63      6    5         4                 1  -59.330139   \n",
       "11            39355.64      4   22         2                 1   15.186136   \n",
       "22           129113.69      3   15         6                 1   36.811802   \n",
       "\n",
       "   due_in_date payment_date  \n",
       "0   2020-05-23   2020-04-21  \n",
       "1   2020-04-10   2020-04-22  \n",
       "2   2020-05-11   2020-03-13  \n",
       "11  2020-05-17   2020-06-02  \n",
       "22  2020-03-20   2020-04-26  "
      ]
     },
     "execution_count": 93,
     "metadata": {},
     "output_type": "execute_result"
    }
   ],
   "source": [
    "#payment_date = due_in_date + delay_days\n",
    "\n",
    "result['payment_date'] = pd.to_datetime(result.due_in_date) + pd.to_timedelta(pd.np.ceil(result.delay_days), unit=\"D\")\n",
    "result.head()"
   ]
  },
  {
   "cell_type": "code",
   "execution_count": 94,
   "id": "4a714d38",
   "metadata": {},
   "outputs": [],
   "source": [
    "#Aging bucket for payment status\n",
    "\n",
    "result['aging_bucket'] =\"\"\n",
    "result.loc[result['delay_days'].apply(int) > 60, 'aging_bucket'] = '>60'\n",
    "result.loc[(result['delay_days'].apply(int) >= 46) & (result['delay_days'].apply(int) <= 60),'aging_bucket'] = '46-60'\n",
    "result.loc[(result['delay_days'].apply(int) >= 31) & (result['delay_days'].apply(int) <= 45),'aging_bucket'] = '31-45'\n",
    "result.loc[(result['delay_days'].apply(int) >= 16) & (result['delay_days'].apply(int) <= 30),'aging_bucket'] = '16-30'\n",
    "result.loc[(result['delay_days'].apply(int) >= 1 ) & (result['delay_days'].apply(int) <= 15),'aging_bucket'] = '1-15'\n",
    "result.loc[result['delay_days'].apply(int) <= 0, 'aging_bucket'] = 'Paid'"
   ]
  },
  {
   "cell_type": "code",
   "execution_count": 95,
   "id": "209d8469",
   "metadata": {},
   "outputs": [
    {
     "data": {
      "text/html": [
       "<div>\n",
       "<style scoped>\n",
       "    .dataframe tbody tr th:only-of-type {\n",
       "        vertical-align: middle;\n",
       "    }\n",
       "\n",
       "    .dataframe tbody tr th {\n",
       "        vertical-align: top;\n",
       "    }\n",
       "\n",
       "    .dataframe thead th {\n",
       "        text-align: right;\n",
       "    }\n",
       "</style>\n",
       "<table border=\"1\" class=\"dataframe\">\n",
       "  <thead>\n",
       "    <tr style=\"text-align: right;\">\n",
       "      <th></th>\n",
       "      <th>key_0</th>\n",
       "      <th>document_create_date</th>\n",
       "      <th>baseline_create_date</th>\n",
       "      <th>invoice_id</th>\n",
       "      <th>actual_open_amount</th>\n",
       "      <th>month</th>\n",
       "      <th>day</th>\n",
       "      <th>week_day</th>\n",
       "      <th>business_code_en</th>\n",
       "      <th>delay_days</th>\n",
       "      <th>due_in_date</th>\n",
       "      <th>payment_date</th>\n",
       "      <th>aging_bucket</th>\n",
       "    </tr>\n",
       "  </thead>\n",
       "  <tbody>\n",
       "    <tr>\n",
       "      <th>0</th>\n",
       "      <td>0</td>\n",
       "      <td>20200318</td>\n",
       "      <td>20200319</td>\n",
       "      <td>1.930670e+09</td>\n",
       "      <td>5258.71</td>\n",
       "      <td>3</td>\n",
       "      <td>19</td>\n",
       "      <td>3</td>\n",
       "      <td>1</td>\n",
       "      <td>-32.163250</td>\n",
       "      <td>2020-05-23</td>\n",
       "      <td>2020-04-21</td>\n",
       "      <td>Paid</td>\n",
       "    </tr>\n",
       "    <tr>\n",
       "      <th>1</th>\n",
       "      <td>1</td>\n",
       "      <td>20200326</td>\n",
       "      <td>20200326</td>\n",
       "      <td>1.930709e+09</td>\n",
       "      <td>76336.64</td>\n",
       "      <td>3</td>\n",
       "      <td>26</td>\n",
       "      <td>3</td>\n",
       "      <td>1</td>\n",
       "      <td>11.861892</td>\n",
       "      <td>2020-04-10</td>\n",
       "      <td>2020-04-22</td>\n",
       "      <td>1-15</td>\n",
       "    </tr>\n",
       "    <tr>\n",
       "      <th>2</th>\n",
       "      <td>2</td>\n",
       "      <td>20200506</td>\n",
       "      <td>20200501</td>\n",
       "      <td>1.930861e+09</td>\n",
       "      <td>12488.63</td>\n",
       "      <td>6</td>\n",
       "      <td>5</td>\n",
       "      <td>4</td>\n",
       "      <td>1</td>\n",
       "      <td>-59.330139</td>\n",
       "      <td>2020-05-11</td>\n",
       "      <td>2020-03-13</td>\n",
       "      <td>Paid</td>\n",
       "    </tr>\n",
       "    <tr>\n",
       "      <th>11</th>\n",
       "      <td>55</td>\n",
       "      <td>20200422</td>\n",
       "      <td>20200422</td>\n",
       "      <td>1.930814e+09</td>\n",
       "      <td>39355.64</td>\n",
       "      <td>4</td>\n",
       "      <td>22</td>\n",
       "      <td>2</td>\n",
       "      <td>1</td>\n",
       "      <td>15.186136</td>\n",
       "      <td>2020-05-17</td>\n",
       "      <td>2020-06-02</td>\n",
       "      <td>1-15</td>\n",
       "    </tr>\n",
       "    <tr>\n",
       "      <th>22</th>\n",
       "      <td>89</td>\n",
       "      <td>20200315</td>\n",
       "      <td>20200315</td>\n",
       "      <td>1.930654e+09</td>\n",
       "      <td>129113.69</td>\n",
       "      <td>3</td>\n",
       "      <td>15</td>\n",
       "      <td>6</td>\n",
       "      <td>1</td>\n",
       "      <td>36.811802</td>\n",
       "      <td>2020-03-20</td>\n",
       "      <td>2020-04-26</td>\n",
       "      <td>31-45</td>\n",
       "    </tr>\n",
       "    <tr>\n",
       "      <th>...</th>\n",
       "      <td>...</td>\n",
       "      <td>...</td>\n",
       "      <td>...</td>\n",
       "      <td>...</td>\n",
       "      <td>...</td>\n",
       "      <td>...</td>\n",
       "      <td>...</td>\n",
       "      <td>...</td>\n",
       "      <td>...</td>\n",
       "      <td>...</td>\n",
       "      <td>...</td>\n",
       "      <td>...</td>\n",
       "      <td>...</td>\n",
       "    </tr>\n",
       "    <tr>\n",
       "      <th>9983</th>\n",
       "      <td>49907</td>\n",
       "      <td>20200414</td>\n",
       "      <td>20200416</td>\n",
       "      <td>1.930784e+09</td>\n",
       "      <td>14132.59</td>\n",
       "      <td>4</td>\n",
       "      <td>16</td>\n",
       "      <td>3</td>\n",
       "      <td>1</td>\n",
       "      <td>-67.637329</td>\n",
       "      <td>2020-04-01</td>\n",
       "      <td>2020-01-25</td>\n",
       "      <td>Paid</td>\n",
       "    </tr>\n",
       "    <tr>\n",
       "      <th>9987</th>\n",
       "      <td>49922</td>\n",
       "      <td>20200415</td>\n",
       "      <td>20200416</td>\n",
       "      <td>1.930788e+09</td>\n",
       "      <td>2404.74</td>\n",
       "      <td>4</td>\n",
       "      <td>16</td>\n",
       "      <td>3</td>\n",
       "      <td>1</td>\n",
       "      <td>-36.528942</td>\n",
       "      <td>2020-05-05</td>\n",
       "      <td>2020-03-30</td>\n",
       "      <td>Paid</td>\n",
       "    </tr>\n",
       "    <tr>\n",
       "      <th>9992</th>\n",
       "      <td>49940</td>\n",
       "      <td>20200327</td>\n",
       "      <td>20200328</td>\n",
       "      <td>1.930709e+09</td>\n",
       "      <td>50531.61</td>\n",
       "      <td>3</td>\n",
       "      <td>28</td>\n",
       "      <td>5</td>\n",
       "      <td>1</td>\n",
       "      <td>14.845479</td>\n",
       "      <td>2020-05-15</td>\n",
       "      <td>2020-05-30</td>\n",
       "      <td>1-15</td>\n",
       "    </tr>\n",
       "    <tr>\n",
       "      <th>9993</th>\n",
       "      <td>49954</td>\n",
       "      <td>20200328</td>\n",
       "      <td>20200329</td>\n",
       "      <td>1.930711e+09</td>\n",
       "      <td>45908.14</td>\n",
       "      <td>3</td>\n",
       "      <td>29</td>\n",
       "      <td>6</td>\n",
       "      <td>1</td>\n",
       "      <td>14.739482</td>\n",
       "      <td>2020-04-07</td>\n",
       "      <td>2020-04-22</td>\n",
       "      <td>1-15</td>\n",
       "    </tr>\n",
       "    <tr>\n",
       "      <th>9999</th>\n",
       "      <td>49997</td>\n",
       "      <td>20200425</td>\n",
       "      <td>20200425</td>\n",
       "      <td>1.930827e+09</td>\n",
       "      <td>37667.65</td>\n",
       "      <td>4</td>\n",
       "      <td>25</td>\n",
       "      <td>5</td>\n",
       "      <td>1</td>\n",
       "      <td>14.296293</td>\n",
       "      <td>2020-04-06</td>\n",
       "      <td>2020-04-21</td>\n",
       "      <td>1-15</td>\n",
       "    </tr>\n",
       "  </tbody>\n",
       "</table>\n",
       "<p>2003 rows × 13 columns</p>\n",
       "</div>"
      ],
      "text/plain": [
       "      key_0  document_create_date  baseline_create_date    invoice_id  \\\n",
       "0         0              20200318              20200319  1.930670e+09   \n",
       "1         1              20200326              20200326  1.930709e+09   \n",
       "2         2              20200506              20200501  1.930861e+09   \n",
       "11       55              20200422              20200422  1.930814e+09   \n",
       "22       89              20200315              20200315  1.930654e+09   \n",
       "...     ...                   ...                   ...           ...   \n",
       "9983  49907              20200414              20200416  1.930784e+09   \n",
       "9987  49922              20200415              20200416  1.930788e+09   \n",
       "9992  49940              20200327              20200328  1.930709e+09   \n",
       "9993  49954              20200328              20200329  1.930711e+09   \n",
       "9999  49997              20200425              20200425  1.930827e+09   \n",
       "\n",
       "      actual_open_amount  month  day  week_day  business_code_en  delay_days  \\\n",
       "0                5258.71      3   19         3                 1  -32.163250   \n",
       "1               76336.64      3   26         3                 1   11.861892   \n",
       "2               12488.63      6    5         4                 1  -59.330139   \n",
       "11              39355.64      4   22         2                 1   15.186136   \n",
       "22             129113.69      3   15         6                 1   36.811802   \n",
       "...                  ...    ...  ...       ...               ...         ...   \n",
       "9983            14132.59      4   16         3                 1  -67.637329   \n",
       "9987             2404.74      4   16         3                 1  -36.528942   \n",
       "9992            50531.61      3   28         5                 1   14.845479   \n",
       "9993            45908.14      3   29         6                 1   14.739482   \n",
       "9999            37667.65      4   25         5                 1   14.296293   \n",
       "\n",
       "     due_in_date payment_date aging_bucket  \n",
       "0     2020-05-23   2020-04-21         Paid  \n",
       "1     2020-04-10   2020-04-22         1-15  \n",
       "2     2020-05-11   2020-03-13         Paid  \n",
       "11    2020-05-17   2020-06-02         1-15  \n",
       "22    2020-03-20   2020-04-26        31-45  \n",
       "...          ...          ...          ...  \n",
       "9983  2020-04-01   2020-01-25         Paid  \n",
       "9987  2020-05-05   2020-03-30         Paid  \n",
       "9992  2020-05-15   2020-05-30         1-15  \n",
       "9993  2020-04-07   2020-04-22         1-15  \n",
       "9999  2020-04-06   2020-04-21         1-15  \n",
       "\n",
       "[2003 rows x 13 columns]"
      ]
     },
     "execution_count": 95,
     "metadata": {},
     "output_type": "execute_result"
    }
   ],
   "source": [
    "result"
   ]
  },
  {
   "cell_type": "code",
   "execution_count": 96,
   "id": "21879d09",
   "metadata": {},
   "outputs": [
    {
     "data": {
      "text/html": [
       "<div>\n",
       "<style scoped>\n",
       "    .dataframe tbody tr th:only-of-type {\n",
       "        vertical-align: middle;\n",
       "    }\n",
       "\n",
       "    .dataframe tbody tr th {\n",
       "        vertical-align: top;\n",
       "    }\n",
       "\n",
       "    .dataframe thead th {\n",
       "        text-align: right;\n",
       "    }\n",
       "</style>\n",
       "<table border=\"1\" class=\"dataframe\">\n",
       "  <thead>\n",
       "    <tr style=\"text-align: right;\">\n",
       "      <th></th>\n",
       "      <th>Invoice ID</th>\n",
       "      <th>Due Date</th>\n",
       "      <th>Actual Open Amount($)</th>\n",
       "      <th>Payment Date</th>\n",
       "      <th>Aging Bucket(days)</th>\n",
       "    </tr>\n",
       "  </thead>\n",
       "  <tbody>\n",
       "    <tr>\n",
       "      <th>0</th>\n",
       "      <td>1.930670e+09</td>\n",
       "      <td>2020-05-23</td>\n",
       "      <td>5258.71</td>\n",
       "      <td>2020-04-21</td>\n",
       "      <td>Paid</td>\n",
       "    </tr>\n",
       "    <tr>\n",
       "      <th>1</th>\n",
       "      <td>1.930709e+09</td>\n",
       "      <td>2020-04-10</td>\n",
       "      <td>76336.64</td>\n",
       "      <td>2020-04-22</td>\n",
       "      <td>1-15</td>\n",
       "    </tr>\n",
       "    <tr>\n",
       "      <th>2</th>\n",
       "      <td>1.930861e+09</td>\n",
       "      <td>2020-05-11</td>\n",
       "      <td>12488.63</td>\n",
       "      <td>2020-03-13</td>\n",
       "      <td>Paid</td>\n",
       "    </tr>\n",
       "    <tr>\n",
       "      <th>3</th>\n",
       "      <td>1.930814e+09</td>\n",
       "      <td>2020-05-17</td>\n",
       "      <td>39355.64</td>\n",
       "      <td>2020-06-02</td>\n",
       "      <td>1-15</td>\n",
       "    </tr>\n",
       "    <tr>\n",
       "      <th>4</th>\n",
       "      <td>1.930654e+09</td>\n",
       "      <td>2020-03-20</td>\n",
       "      <td>129113.69</td>\n",
       "      <td>2020-04-26</td>\n",
       "      <td>31-45</td>\n",
       "    </tr>\n",
       "  </tbody>\n",
       "</table>\n",
       "</div>"
      ],
      "text/plain": [
       "     Invoice ID   Due Date  Actual Open Amount($) Payment Date  \\\n",
       "0  1.930670e+09 2020-05-23                5258.71   2020-04-21   \n",
       "1  1.930709e+09 2020-04-10               76336.64   2020-04-22   \n",
       "2  1.930861e+09 2020-05-11               12488.63   2020-03-13   \n",
       "3  1.930814e+09 2020-05-17               39355.64   2020-06-02   \n",
       "4  1.930654e+09 2020-03-20              129113.69   2020-04-26   \n",
       "\n",
       "  Aging Bucket(days)  \n",
       "0               Paid  \n",
       "1               1-15  \n",
       "2               Paid  \n",
       "3               1-15  \n",
       "4              31-45  "
      ]
     },
     "execution_count": 96,
     "metadata": {},
     "output_type": "execute_result"
    }
   ],
   "source": [
    "#Final Result\n",
    "\n",
    "main_result = pd.DataFrame(zip(result.invoice_id, result.due_in_date, result.actual_open_amount, result.payment_date,result.aging_bucket),columns = ['Invoice ID','Due Date','Actual Open Amount($)','Payment Date','Aging Bucket(days)'])\n",
    "main_result.head()"
   ]
  }
 ],
 "metadata": {
  "kernelspec": {
   "display_name": "Python 3",
   "language": "python",
   "name": "python3"
  },
  "language_info": {
   "codemirror_mode": {
    "name": "ipython",
    "version": 3
   },
   "file_extension": ".py",
   "mimetype": "text/x-python",
   "name": "python",
   "nbconvert_exporter": "python",
   "pygments_lexer": "ipython3",
   "version": "3.9.0"
  }
 },
 "nbformat": 4,
 "nbformat_minor": 5
}
